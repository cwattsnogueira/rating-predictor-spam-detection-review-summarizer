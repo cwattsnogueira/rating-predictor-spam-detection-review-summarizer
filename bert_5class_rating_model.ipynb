{
  "nbformat": 4,
  "nbformat_minor": 0,
  "metadata": {
    "colab": {
      "provenance": [],
      "gpuType": "T4",
      "include_colab_link": true
    },
    "kernelspec": {
      "name": "python3",
      "display_name": "Python 3"
    },
    "language_info": {
      "name": "python"
    },
    "accelerator": "GPU"
  },
  "cells": [
    {
      "cell_type": "markdown",
      "metadata": {
        "id": "view-in-github",
        "colab_type": "text"
      },
      "source": [
        "<a href=\"https://colab.research.google.com/github/cwattsnogueira/rating-predictor-spam-detection-review-summarizer/blob/main/bert_5class_rating_model.ipynb\" target=\"_parent\"><img src=\"https://colab.research.google.com/assets/colab-badge.svg\" alt=\"Open In Colab\"/></a>"
      ]
    },
    {
      "cell_type": "code",
      "source": [
        "# Install dependencies\n",
        "!pip install transformers datasets scikit-learn joblib --quiet"
      ],
      "metadata": {
        "id": "gLWvDptstKXI"
      },
      "execution_count": null,
      "outputs": []
    },
    {
      "cell_type": "code",
      "source": [
        "import pandas as pd\n",
        "import numpy as np\n",
        "import torch\n",
        "from torch.utils.data import DataLoader\n",
        "from torch.optim import AdamW\n",
        "from transformers import BertTokenizer, BertForSequenceClassification, get_scheduler\n",
        "from datasets import Dataset\n",
        "from sklearn.utils.class_weight import compute_class_weight\n",
        "from sklearn.metrics import classification_report, confusion_matrix\n",
        "from torch.nn.functional import softmax\n",
        "from tqdm import tqdm\n",
        "import joblib\n",
        "import matplotlib.pyplot as plt\n",
        "import seaborn as sns\n",
        "\n",
        "# Load cleaned review data\n",
        "df = pd.read_parquet(\"/content/engineered_features.parquet\")\n",
        "df = df[['clean_text', 'reviews.rating']].dropna()\n",
        "\n",
        "# Keep original 5-star labels (1–5)\n",
        "df['label'] = df['reviews.rating'].astype(int) - 1  # labels must be 0–4 for PyTorch\n",
        "\n",
        "sns.countplot(x='label', hue='label', data=df, palette='Set2', legend=False)\n",
        "plt.title(\"Rating Distribution (5 classes)\")\n",
        "plt.xlabel(\"Rating (0=1 star ... 4=5 stars)\")\n",
        "plt.ylabel(\"Count\")\n",
        "plt.tight_layout()\n",
        "plt.show()\n",
        "\n",
        "# Compute class weights for imbalance\n",
        "class_weights = compute_class_weight(class_weight='balanced',\n",
        "                                     classes=np.unique(df['label']),\n",
        "                                     y=df['label'])\n",
        "class_weights_tensor = torch.tensor(class_weights, dtype=torch.float)\n",
        "\n",
        "print(\"Class Weights:\", class_weights)\n",
        "\n",
        "# Tokenizer\n",
        "tokenizer = BertTokenizer.from_pretrained('bert-base-uncased')\n",
        "\n",
        "dataset = Dataset.from_pandas(df[['clean_text', 'label']])\n",
        "dataset = dataset.train_test_split(test_size=0.2, seed=42)\n",
        "\n",
        "def tokenize_function(example):\n",
        "    return tokenizer(example['clean_text'], truncation=True, padding='max_length', max_length=128)\n",
        "\n",
        "tokenized_dataset = dataset.map(tokenize_function, batched=True)\n",
        "tokenized_dataset.set_format(type='torch', columns=['input_ids', 'attention_mask', 'label'])\n",
        "\n",
        "train_dataloader = DataLoader(tokenized_dataset['train'], batch_size=16, shuffle=True)\n",
        "eval_dataloader = DataLoader(tokenized_dataset['test'], batch_size=16)\n",
        "\n",
        "# Model setup\n",
        "device = torch.device(\"cuda\" if torch.cuda.is_available() else \"cpu\")\n",
        "model = BertForSequenceClassification.from_pretrained('bert-base-uncased', num_labels=5)\n",
        "model.to(device)\n",
        "\n",
        "optimizer = AdamW(model.parameters(), lr=2e-5)\n",
        "num_epochs = 10\n",
        "lr_scheduler = get_scheduler(\"linear\", optimizer=optimizer,\n",
        "                             num_warmup_steps=0,\n",
        "                             num_training_steps=num_epochs * len(train_dataloader))\n",
        "\n",
        "# Weighted loss\n",
        "loss_fn = torch.nn.CrossEntropyLoss(weight=class_weights_tensor.to(device))\n",
        "\n",
        "best_val_loss = float('inf')\n",
        "patience = 2\n",
        "counter = 0\n",
        "\n",
        "# Training loop\n",
        "for epoch in range(num_epochs):\n",
        "    model.train()\n",
        "    train_loop = tqdm(train_dataloader, leave=True)\n",
        "    for batch in train_loop:\n",
        "        batch = {k: v.to(device) for k, v in batch.items()}\n",
        "        outputs = model(input_ids=batch['input_ids'],\n",
        "                        attention_mask=batch['attention_mask'],\n",
        "                        labels=batch['label'])\n",
        "        loss = loss_fn(outputs.logits, batch['label'])\n",
        "        loss.backward()\n",
        "        torch.nn.utils.clip_grad_norm_(model.parameters(), max_norm=1.0)\n",
        "        optimizer.step()\n",
        "        lr_scheduler.step()\n",
        "        optimizer.zero_grad()\n",
        "        train_loop.set_description(f\"Epoch {epoch}\")\n",
        "        train_loop.set_postfix(train_loss=loss.item())\n",
        "\n",
        "    # Validation\n",
        "    model.eval()\n",
        "    val_loss = 0\n",
        "    val_preds, val_labels = [], []\n",
        "\n",
        "    with torch.no_grad():\n",
        "        for batch in eval_dataloader:\n",
        "            batch = {k: v.to(device) for k, v in batch.items()}\n",
        "            outputs = model(input_ids=batch['input_ids'],\n",
        "                            attention_mask=batch['attention_mask'],\n",
        "                            labels=batch['label'])\n",
        "            loss = loss_fn(outputs.logits, batch['label'])\n",
        "            val_loss += loss.item()\n",
        "\n",
        "            preds = torch.argmax(outputs.logits, dim=-1)\n",
        "            val_preds.extend(preds.cpu().numpy())\n",
        "            val_labels.extend(batch['label'].cpu().numpy())\n",
        "\n",
        "    avg_val_loss = val_loss / len(eval_dataloader)\n",
        "    val_acc = np.mean(np.array(val_preds) == np.array(val_labels))\n",
        "    print(f\"Epoch {epoch} - Validation Loss: {avg_val_loss:.4f} - Accuracy: {val_acc:.4f}\")\n",
        "\n",
        "    if avg_val_loss < best_val_loss:\n",
        "        best_val_loss = avg_val_loss\n",
        "        counter = 0\n",
        "        torch.save(model.state_dict(), \"best_multiclass_rating_model.pt\")\n",
        "    else:\n",
        "        counter += 1\n",
        "        if counter >= patience:\n",
        "            print(\"Early stopping triggered.\")\n",
        "            break\n",
        "\n",
        "# Load best model\n",
        "model.load_state_dict(torch.load(\"best_multiclass_rating_model.pt\"))\n",
        "model.eval()\n",
        "\n",
        "# Evaluation\n",
        "all_preds, all_labels = [], []\n",
        "with torch.no_grad():\n",
        "    for batch in eval_dataloader:\n",
        "        batch = {k: v.to(device) for k, v in batch.items()}\n",
        "        outputs = model(input_ids=batch['input_ids'],\n",
        "                        attention_mask=batch['attention_mask'])\n",
        "        preds = torch.argmax(outputs.logits, dim=-1)\n",
        "\n",
        "        all_preds.extend(preds.cpu().numpy())\n",
        "        all_labels.extend(batch['label'].cpu().numpy())\n",
        "\n",
        "# Classification report (macro F1 handles imbalance better)\n",
        "report = classification_report(all_labels, all_preds, zero_division=0, output_dict=True, digits=4)\n",
        "print(classification_report(all_labels, all_preds, zero_division=0, digits=4))\n",
        "\n",
        "# Confusion matrix\n",
        "cm = confusion_matrix(all_labels, all_preds)\n",
        "sns.heatmap(cm, annot=True, fmt='d', cmap='Blues')\n",
        "plt.xlabel(\"Predicted\")\n",
        "plt.ylabel(\"True\")\n",
        "plt.title(\"Confusion Matrix (5 Classes)\")\n",
        "plt.tight_layout()\n",
        "plt.show()\n",
        "\n",
        "# Per-class accuracy\n",
        "for i in range(5):\n",
        "    correct = np.sum((np.array(all_labels) == i) & (np.array(all_preds) == i))\n",
        "    total = np.sum(np.array(all_labels) == i)\n",
        "    acc = correct / total if total > 0 else 0\n",
        "    print(f\"Accuracy for Class {i} ({i+1} stars): {acc:.2%}\")\n",
        "\n",
        "# Save metrics + model\n",
        "joblib.dump({\n",
        "    \"classification_report\": report,\n",
        "    \"confusion_matrix\": cm.tolist(),\n",
        "    \"class_weights\": class_weights.tolist()\n",
        "}, \"bert_5class_rating_metrics.pkl\")\n",
        "\n",
        "torch.save(model.state_dict(), \"final_5class_rating_model.pt\")\n",
        "model.save_pretrained(\"bert_5class_rating_model\")\n",
        "tokenizer.save_pretrained(\"bert_5class_rating_model\")"
      ],
      "metadata": {
        "colab": {
          "base_uri": "https://localhost:8080/",
          "height": 1000,
          "referenced_widgets": [
            "429f33595f4843e0b4fd3e1a474aa325",
            "80d022fc27c94c39bd996ecb9b7baa1c",
            "157a23548964445b9168675a27eca533",
            "000e7c733e524626a16b09e7c09c5b78",
            "28272b2f873e4236998b3ba8f6c2286d",
            "9369f0805c9644daa55f92ac57b70027",
            "4d9ba8ec351c4d11b67d746f086ba16c",
            "24094f0ae35e46809f77c59f3add5f8a",
            "73be1672cfa84d52a9d849a1050929f4",
            "0d9123784ab44cc28bc7874121cedc86",
            "ebbbd7bad0e741d7bc717075374c98ff",
            "5bf9050a94a74b439df7c6bc5da3a404",
            "d7bae50b046749be9f1076bb142a7010",
            "8b0ff3e7bfb0499590c8965223342583",
            "3fd6637d8b704f918859d04c297dd978",
            "2fc526743e1a410c9bbb28679cdbbf3c",
            "099d6399a24c4531a3d21bdfc6aee4b3",
            "824a95457c904a0c9c100ea3142a95b9",
            "eb3a0d2502344647b45e09e029e55252",
            "bfe430bcf4af4bc9938ad691e2491f8e",
            "dfc77adc49bd492caa872721dcd7d240",
            "7ff52c17586a4c2a841395acd34710f3"
          ]
        },
        "id": "ba_o_9dRtIou",
        "outputId": "8199be84-bc35-4cfa-f41a-cc4d87c7cb80"
      },
      "execution_count": null,
      "outputs": [
        {
          "output_type": "display_data",
          "data": {
            "text/plain": [
              "<Figure size 640x480 with 1 Axes>"
            ],
            "image/png": "[encoded data removed]"
          },
          "metadata": {}
        },
        {
          "output_type": "stream",
          "name": "stdout",
          "text": [
            "Class Weights: [ 8.35242291 14.58461538  4.46117647  0.70300334  0.31594734]\n"
          ]
        },
        {
          "output_type": "stream",
          "name": "stderr",
          "text": [
            "/usr/local/lib/python3.12/dist-packages/huggingface_hub/utils/_auth.py:94: UserWarning: \n",
            "The secret `HF_TOKEN` does not exist in your Colab secrets.\n",
            "To authenticate with the Hugging Face Hub, create a token in your settings tab (https://huggingface.co/settings/tokens), set it as secret in your Google Colab and restart your session.\n",
            "You will be able to reuse this secret in all of your notebooks.\n",
            "Please note that authentication is recommended but still optional to access public models or datasets.\n",
            "  warnings.warn(\n"
          ]
        },
        {
          "output_type": "display_data",
          "data": {
            "text/plain": [
              "Map:   0%|          | 0/7584 [00:00<?, ? examples/s]"
            ],
            "application/vnd.jupyter.widget-view+json": {
              "version_major": 2,
              "version_minor": 0,
              "model_id": "429f33595f4843e0b4fd3e1a474aa325"
            }
          },
          "metadata": {}
        },
        {
          "output_type": "display_data",
          "data": {
            "text/plain": [
              "Map:   0%|          | 0/1896 [00:00<?, ? examples/s]"
            ],
            "application/vnd.jupyter.widget-view+json": {
              "version_major": 2,
              "version_minor": 0,
              "model_id": "5bf9050a94a74b439df7c6bc5da3a404"
            }
          },
          "metadata": {}
        },
        {
          "output_type": "stream",
          "name": "stderr",
          "text": [
            "Some weights of BertForSequenceClassification were not initialized from the model checkpoint at bert-base-uncased and are newly initialized: ['classifier.bias', 'classifier.weight']\n",
            "You should probably TRAIN this model on a down-stream task to be able to use it for predictions and inference.\n",
            "Epoch 0: 100%|██████████| 474/474 [00:40<00:00, 11.64it/s, train_loss=1.77]\n"
          ]
        },
        {
          "output_type": "stream",
          "name": "stdout",
          "text": [
            "Epoch 0 - Validation Loss: 1.3025 - Accuracy: 0.5295\n"
          ]
        },
        {
          "output_type": "stream",
          "name": "stderr",
          "text": [
            "Epoch 1: 100%|██████████| 474/474 [00:39<00:00, 12.00it/s, train_loss=1.29]\n"
          ]
        },
        {
          "output_type": "stream",
          "name": "stdout",
          "text": [
            "Epoch 1 - Validation Loss: 1.2253 - Accuracy: 0.5649\n"
          ]
        },
        {
          "output_type": "stream",
          "name": "stderr",
          "text": [
            "Epoch 2: 100%|██████████| 474/474 [00:39<00:00, 11.97it/s, train_loss=1.38]\n"
          ]
        },
        {
          "output_type": "stream",
          "name": "stdout",
          "text": [
            "Epoch 2 - Validation Loss: 1.4154 - Accuracy: 0.5997\n"
          ]
        },
        {
          "output_type": "stream",
          "name": "stderr",
          "text": [
            "Epoch 3: 100%|██████████| 474/474 [00:39<00:00, 11.97it/s, train_loss=1.23]\n"
          ]
        },
        {
          "output_type": "stream",
          "name": "stdout",
          "text": [
            "Epoch 3 - Validation Loss: 1.6669 - Accuracy: 0.6403\n",
            "Early stopping triggered.\n",
            "              precision    recall  f1-score   support\n",
            "\n",
            "           0     0.3784    0.8000    0.5138        35\n",
            "           1     0.0938    0.1667    0.1200        18\n",
            "           2     0.2571    0.1935    0.2209        93\n",
            "           3     0.3980    0.6586    0.4962       539\n",
            "           4     0.8056    0.5508    0.6542      1211\n",
            "\n",
            "    accuracy                         0.5649      1896\n",
            "   macro avg     0.3866    0.4739    0.4010      1896\n",
            "weighted avg     0.6481    0.5649    0.5804      1896\n",
            "\n"
          ]
        },
        {
          "output_type": "display_data",
          "data": {
            "text/plain": [
              "<Figure size 640x480 with 2 Axes>"
            ],
            "image/png": "[encoded data removed]"
          },
          "metadata": {}
        },
        {
          "output_type": "stream",
          "name": "stdout",
          "text": [
            "Accuracy for Class 0 (1 stars): 80.00%\n",
            "Accuracy for Class 1 (2 stars): 16.67%\n",
            "Accuracy for Class 2 (3 stars): 19.35%\n",
            "Accuracy for Class 3 (4 stars): 65.86%\n",
            "Accuracy for Class 4 (5 stars): 55.08%\n"
          ]
        },
        {
          "output_type": "execute_result",
          "data": {
            "text/plain": [
              "('bert_5class_rating_model/tokenizer_config.json',\n",
              " 'bert_5class_rating_model/special_tokens_map.json',\n",
              " 'bert_5class_rating_model/vocab.txt',\n",
              " 'bert_5class_rating_model/added_tokens.json')"
            ]
          },
          "metadata": {},
          "execution_count": 2
        }
      ]
    }
  ]
}