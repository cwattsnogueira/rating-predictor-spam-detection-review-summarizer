{
  "nbformat": 4,
  "nbformat_minor": 0,
  "metadata": {
    "colab": {
      "provenance": []
    },
    "kernelspec": {
      "name": "python3",
      "display_name": "Python 3"
    },
    "language_info": {
      "name": "python"
    }
  },
  "cells": [
    {
      "cell_type": "markdown",
      "source": [
        "# Category Cleaning and Normalization\n",
        "\n",
        "In this notebook, I explore and clean the `categories` column to reduce noise and improve interpretability. My goal is to standardize category names, group semantically similar entries, and prepare this feature for modeling.\n",
        "\n",
        "I’ll inspect unique values, apply normalization, and create a grouped version (`category_group`) that captures high-level product types like skincare, haircare, and makeup."
      ],
      "metadata": {
        "id": "I2_kB2WCBTDk"
      }
    },
    {
      "cell_type": "code",
      "source": [
        "# Load cleaned dataset\n",
        "import pandas as pd\n",
        "df = pd.read_parquet(\"/content/cleaned_reviews.parquet\")"
      ],
      "metadata": {
        "id": "MBz1iH9oBX3m"
      },
      "execution_count": null,
      "outputs": []
    },
    {
      "cell_type": "code",
      "source": [
        "# Inspect unique categories\n",
        "print(\" Unique category samples:\")\n",
        "display(df['categories'].dropna().unique()[:30])"
      ],
      "metadata": {
        "colab": {
          "base_uri": "https://localhost:8080/",
          "height": 781
        },
        "id": "Ymv4hUMXBZ3u",
        "outputId": "8b306c7c-d330-4126-bdf5-f76c0f4755a5"
      },
      "execution_count": null,
      "outputs": [
        {
          "output_type": "stream",
          "name": "stdout",
          "text": [
            " Unique category samples:\n"
          ]
        },
        {
          "output_type": "display_data",
          "data": {
            "text/plain": [
              "array(['Movies, Music & Books,Music,R&b,Movies & TV,Movie Bundles & Collections,CDs & Vinyl,Rap & Hip-Hop,Bass,Music on CD or Vinyl,Rap,Hip-Hop,Mainstream Rap,Pop Rap',\n",
              "       'Food,Packaged Foods,Snacks,Crackers,Snacks, Cookies & Chips,Rice Cakes,Cakes',\n",
              "       'Personal Care,Medicine Cabinet,Lubricant/Spermicide,Health,Sexual Wellness,Lubricants',\n",
              "       'Personal Care,Skin Care,Hand Cream,Beauty,Body Lotions & Creams,Natural Beauty,Natural Personal Care,Natural Skin Care,Ways To Shop,Bath & Body,Hand Creams & Lotions',\n",
              "       'Personal Care,Bath, Shower & Soap,Featured Brands,Health & Beauty,Johnson & Johnson,Bath & Body,Body Wash & Cleansers,Beauty,Skin Care,Facial Cleansers,Soaps',\n",
              "       'Personal Care,Baby Care,Baby Bubble Bath,Baby,Bath & Potty,Toiletries,Bubble Bath,Baby Bath,Bath & Body,Body Wash & Cleansers',\n",
              "       'Personal Care,Skin Care,Anti-Aging,Beauty,Face Moisturizers,Facial Moisturizers,Moisturizers,Creams & Moisturizers',\n",
              "       'Household Essentials,Cleaning Supplies,Glass Cleaners,Health & Household,Household Supplies,Household Cleaning,Featured Brands,Home And Storage & Org,Thanksgathering,All-purpose Cleaners,Target Restock,Food & Grocery,Glass & Window',\n",
              "       'Food,Packaged Foods,Condiments, Dips, & Salad Dressings,Ketchup,Food & Beverage,Meal Solutions, Grains & Pasta,Condiments & Salad Dressing,Featured Brands,Grocery & Gourmet Food,Condiments & Salad Dressings,Grocery,Heinz,Food & Grocery,General Grocery,Marinades & Sauces',\n",
              "       'Food,Packaged Foods,Snacks,Cereal Bars and Granola Bars,Ways To Shop,Back To School Lunches,Bars,Cereals & Granolas,Energy & Nutritional Bars,Food & Beverage,Cookies, Chips & Snacks,Granola Bars,Food & Beverage Ways To Shop,Special Diets,Snacks, Cookies & Chips,Granola Bars & Snack Bars,Whole Grain,Target Restock',\n",
              "       'Personal Care,Hair Care,Shampoo,Shampoos,Curling Irons & Wands,Daily Shampoo,Shampoo Plus Conditioner,Beauty,Color Additives & Fillers',\n",
              "       'Personal Care,Hair Care,Shampoo,Beauty,Shampoo & Conditioner,Shampoos,Daily Shampoo',\n",
              "       \"Movies, Music & Books,Movies,Kids' & Family,Movies & TV Shows,Disney,Movies & TV,Movies & Music,VHS Custom Stores,Animated Movies,Kids & Family,All Disney Titles,Animation\",\n",
              "       'Personal Care,Skin Care,Face Care,Facial Moisturizer/Treatment,Beauty,Body Lotions & Creams,Face Moisturizers,Moisturizers,Lotions',\n",
              "       'Food,Packaged Foods,Baking,Extracts & Colorings,Home & Garden,Food & Beverages,Candy, Gum & Chocolate,Fondant & Gum Paste,Baking Mixes,Marzipan & Almond Paste',\n",
              "       'Household Essentials,Cleaning Supplies,Dish Detergents,Ways To Shop,Household Essentials Subscriptions,Kitchen,Dishwasher Detergent,Natural Cleaning,Glass Cleaners,Dish Detergent',\n",
              "       \"Home,Kids' Home,Kids' Bedding,Kids' Bedding Sets,Baby,Nursery,Baby Bedding,Toddler Bedding,Toddler,Bedding,Toddler Bedding Sets & Sheets,Featured Brands,Character Shop,Disney Junior,Kitchen & Dining Features,Home & Garden,Kids & Teens at Home,Bedding Sets,Bedding & Blankets\",\n",
              "       \"Gift Finder,Gifts For Baby,Baby,Nursery,Baby Decor,Home,Home Decor,Frames & Display Boxes,Frames,Holiday Shop,Mother's Day,Keepsakes,Jewelry,Bracelets,Keepsakes & Baby Announcements,Baby Picture Frames,Keepsake Frames\",\n",
              "       'Home,Arts & Crafts,Scrapbooking,Scrapbooking Tools,Scrapbook Accessories,Home & Kitchen Features,Punches,Specialty Stores',\n",
              "       'Personal Care,Sun Care,Spray-on Sunscreen SPF 15 And Above,Beauty,Skin Care,Featured Brands,Health & Beauty,Neutrogena,Johnson & Johnson Beauty,Johnson & Johnson,Sun & Tanning,Face,Facial Sunscreens,Health & Wellness,Sunscreen',\n",
              "       \"Home,Home Improvement,Automotive,Car Cleaning,Auto & Tires,Auto Detailing & Car Care,Exterior Care,Car Washes & Cleaners,Car Care,Car Polishes & Waxes,Waxes,eBay Motors,Automotive Tools & Supplies,Automotive Care & Detailing,Car Wash Soap,Cleaners,Car Electronics,Applicators,Gifts,Father's Day Gifts,Automotive Basics,Car Care & Detailing\",\n",
              "       'Personal Care,Makeup,Bronzer,Beauty,Skin Care,Sun & Tanning,Sun Care,Health & Beauty,Sun Protection & Tanning,Sunless Tanning Products,See more Banana Boat Summer Color Tanning lotion,Facial Self Tanners,Face',\n",
              "       'Personal Care,Skin Care,Moisturizer,Beauty,Face Cleansers,Face Wash,Facial Cleansers,Featured Brands,Washes',\n",
              "       'Personal Care,Hair Care,Conditioner,Conditioners,Beauty,Salon Hair Care',\n",
              "       'Food,Packaged Foods,Canned Foods,Canned Seafood,Food & Beverage,Meal Solutions, Grains & Pasta,Canned, Jarred & Packaged Foods,Tuna & Seafood,Canned Goods,Canned Goods & Soups,Tuna Fish,Products,Food & Grocery,General Grocery,Conventional Foods',\n",
              "       'Household Chemicals,Laundry,Stain Remover,Office,Janitorial Supplies,Cleaners & Cleaning Supplies,Kitchen & Dining Features,Health & Household,Household Supplies,Stain Removers,Cleaning Brushes,Brushes',\n",
              "       'Food,Packaged Foods,Breads & Baked Goods,Tortillas and Taco Shells,Fresh Food,Bakery & Bread,Tortillas, Pitas & Wraps,Mexican Dishes',\n",
              "       'Movies, Music & Books,Movies,Drama,African American Cinema',\n",
              "       'Personal Care,Hair Care,Conditioner,Beauty,Shampoo & Conditioner,Salon Hair Care,Conditioners',\n",
              "       \"Home,Kids' Home,Girls' Room,Girls' Room Furniture,Home Ideas, Design & Inspiration,Modern Decor,Furniture,Home Office Furniture,Bookcases,Boys' Room,Boys' Room Furniture,Office Furniture,Kids Furniture,Kids Bedroom Furniture,Bookshelves,Natural Baby Products,Arts & Crafts, Educational Toys, Books,Back to School Supplies,Classroom Furniture,Classroom Cubbies & Coat Lockers\"],\n",
              "      dtype=object)"
            ]
          },
          "metadata": {}
        }
      ]
    },
    {
      "cell_type": "code",
      "source": [
        "print(f\"\\n Total unique categories: {df['categories'].nunique()}\")"
      ],
      "metadata": {
        "colab": {
          "base_uri": "https://localhost:8080/"
        },
        "id": "USQeZ9UUBcL0",
        "outputId": "ab6e6058-2bad-488c-86f7-2a89d52841ce"
      },
      "execution_count": null,
      "outputs": [
        {
          "output_type": "stream",
          "name": "stdout",
          "text": [
            "\n",
            " Total unique categories: 77\n"
          ]
        }
      ]
    },
    {
      "cell_type": "code",
      "source": [
        "import numpy as np\n",
        "def extract_main_category(cat_str):\n",
        "    if pd.isna(cat_str):\n",
        "        return np.nan\n",
        "    return cat_str.split(',')[-1].strip().lower()\n",
        "\n",
        "df['main_category'] = df['categories'].apply(extract_main_category)"
      ],
      "metadata": {
        "id": "0VUkrcSVC8c2"
      },
      "execution_count": null,
      "outputs": []
    },
    {
      "cell_type": "code",
      "source": [
        "# Inspect unique main_category\n",
        "print(\" Unique main_category samples:\")\n",
        "display(df['main_category'].dropna().unique()[:30])"
      ],
      "metadata": {
        "colab": {
          "base_uri": "https://localhost:8080/",
          "height": 208
        },
        "id": "UIRgppfPC_-X",
        "outputId": "fae2043c-e0ed-4eb2-96ba-0d65780e20dd"
      },
      "execution_count": null,
      "outputs": [
        {
          "output_type": "stream",
          "name": "stdout",
          "text": [
            " Unique main_category samples:\n"
          ]
        },
        {
          "output_type": "display_data",
          "data": {
            "text/plain": [
              "array(['pop rap', 'cakes', 'lubricants', 'hand creams & lotions', 'soaps',\n",
              "       'body wash & cleansers', 'creams & moisturizers', 'glass & window',\n",
              "       'marinades & sauces', 'target restock',\n",
              "       'color additives & fillers', 'daily shampoo', 'animation',\n",
              "       'lotions', 'marzipan & almond paste', 'dish detergent',\n",
              "       'bedding & blankets', 'keepsake frames', 'specialty stores',\n",
              "       'sunscreen', 'car care & detailing', 'face', 'washes',\n",
              "       'salon hair care', 'conventional foods', 'brushes',\n",
              "       'mexican dishes', 'african american cinema', 'conditioners',\n",
              "       'classroom cubbies & coat lockers'], dtype=object)"
            ]
          },
          "metadata": {}
        }
      ]
    },
    {
      "cell_type": "code",
      "source": [
        "print(f\"\\n Total unique main_category: {df['main_category'].nunique()}\")"
      ],
      "metadata": {
        "colab": {
          "base_uri": "https://localhost:8080/"
        },
        "id": "e2KZqUdjDKAJ",
        "outputId": "bc862073-78b1-4700-b002-fcf84285381f"
      },
      "execution_count": null,
      "outputs": [
        {
          "output_type": "stream",
          "name": "stdout",
          "text": [
            "\n",
            " Total unique main_category: 73\n"
          ]
        }
      ]
    },
    {
      "cell_type": "code",
      "source": [
        "category_map = {\n",
        "    # Skincare\n",
        "    'face': 'skincare',\n",
        "    'lotions': 'skincare',\n",
        "    'washes': 'skincare',\n",
        "    'soaps': 'skincare',\n",
        "    'creams & moisturizers': 'skincare',\n",
        "    'sunscreen': 'skincare',\n",
        "    'hand creams & lotions': 'skincare',\n",
        "\n",
        "    # Haircare\n",
        "    'shampoo': 'haircare',\n",
        "    'daily shampoo': 'haircare',\n",
        "    'conditioners': 'haircare',\n",
        "    'salon hair care': 'haircare',\n",
        "\n",
        "    # Makeup\n",
        "    'lipstick': 'makeup',\n",
        "    'foundation': 'makeup',\n",
        "    'color additives & fillers': 'makeup',\n",
        "    'bronzer': 'makeup',\n",
        "\n",
        "    # Fragrance\n",
        "    'perfume': 'fragrance',\n",
        "\n",
        "    # Bodycare\n",
        "    'body wash & cleansers': 'bodycare',\n",
        "    'glass & window': 'bodycare',  # maybe reassign later\n",
        "    'lubricants': 'bodycare',\n",
        "\n",
        "    # Food\n",
        "    'cakes': 'food',\n",
        "    'marinades & sauces': 'food',\n",
        "    'mexican dishes': 'food',\n",
        "    'conventional foods': 'food',\n",
        "\n",
        "    # Household\n",
        "    'dish detergent': 'household',\n",
        "    'brushes': 'household',\n",
        "    'car care & detailing': 'household',\n",
        "\n",
        "    # Entertainment\n",
        "    'pop rap': 'entertainment',\n",
        "    'animation': 'entertainment',\n",
        "    'african american cinema': 'entertainment',\n",
        "\n",
        "    # Home\n",
        "    'bedding & blankets': 'home',\n",
        "    'keepsake frames': 'home',\n",
        "    'wall fixtures': 'home',\n",
        "\n",
        "    # Other\n",
        "    'target restock': 'other',\n",
        "    'specialty stores': 'other',\n",
        "}"
      ],
      "metadata": {
        "id": "knD4G7KcD5UC"
      },
      "execution_count": null,
      "outputs": []
    },
    {
      "cell_type": "code",
      "source": [
        "df['category_group'] = df['main_category'].map(category_map).fillna('other')"
      ],
      "metadata": {
        "id": "VP9tl_sdDi15"
      },
      "execution_count": null,
      "outputs": []
    },
    {
      "cell_type": "code",
      "source": [
        "group_counts = df['category_group'].value_counts()\n",
        "group_counts.plot(kind='bar', figsize=(10, 5), title=\"Grouped Category Frequencies\")"
      ],
      "metadata": {
        "colab": {
          "base_uri": "https://localhost:8080/",
          "height": 590
        },
        "id": "DbOZDejiDji3",
        "outputId": "ab8e7a94-6e6c-4478-9ed7-ffb7a80172ba"
      },
      "execution_count": null,
      "outputs": [
        {
          "output_type": "execute_result",
          "data": {
            "text/plain": [
              "<Axes: title={'center': 'Grouped Category Frequencies'}, xlabel='category_group'>"
            ]
          },
          "metadata": {},
          "execution_count": 9
        },
        {
          "output_type": "display_data",
          "data": {
            "text/plain": [
              "<Figure size 1000x500 with 1 Axes>"
            ],
            "image/png": "[encoded data removed]"
          },
          "metadata": {}
        }
      ]
    },
    {
      "cell_type": "markdown",
      "source": [
        "After extracting main_category and mapping it into broader semantic groups, I created the category_group feature. The distribution shows that most entries fall under \"other\", followed by \"skincare\", \"bodycare\", and \"haircare\". This confirms that the original categories field was highly granular and noisy, and that grouping helped reduce dimensionality while preserving interpretability.\n"
      ],
      "metadata": {
        "id": "wjDjbDroEPAD"
      }
    },
    {
      "cell_type": "code",
      "source": [
        "output_path = \"/content/cleaned_reviews_with_categories.parquet\"\n",
        "df.to_parquet(output_path, index=False)\n",
        "print(\"Saved enhanced dataset to:\", output_path)"
      ],
      "metadata": {
        "colab": {
          "base_uri": "https://localhost:8080/"
        },
        "id": "n5kMlYteEUa4",
        "outputId": "51f1e500-56d7-4731-efb9-9ed4b3dc4009"
      },
      "execution_count": null,
      "outputs": [
        {
          "output_type": "stream",
          "name": "stdout",
          "text": [
            "Saved enhanced dataset to: /content/cleaned_reviews_with_categories.parquet\n"
          ]
        }
      ]
    },
    {
      "cell_type": "markdown",
      "source": [
        "I chose to retain all three category-related columns:\n",
        "\n",
        "- `categories`: preserves the original raw tags for auditability\n",
        "- `main_category`: captures the most specific tag per entry\n",
        "- `category_group`: provides a simplified, interpretable grouping for modeling\n",
        "\n",
        "This layered structure supports both traceability and flexibility in downstream analysis."
      ],
      "metadata": {
        "id": "h-b4KRsHEyeJ"
      }
    }
  ]
}