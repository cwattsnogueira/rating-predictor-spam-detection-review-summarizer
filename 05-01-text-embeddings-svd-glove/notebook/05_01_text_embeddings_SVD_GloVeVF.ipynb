{
  "nbformat": 4,
  "nbformat_minor": 0,
  "metadata": {
    "colab": {
      "provenance": []
    },
    "kernelspec": {
      "name": "python3",
      "display_name": "Python 3"
    },
    "language_info": {
      "name": "python"
    }
  },
  "cells": [
    {
      "cell_type": "code",
      "source": [
        "# --- Install dependencies ---\n",
        "!pip install joblib pandas numpy matplotlib pyarrow scikit-learn --quiet"
      ],
      "metadata": {
        "id": "giMhrQ8QNKHM"
      },
      "execution_count": 7,
      "outputs": []
    },
    {
      "cell_type": "code",
      "source": [
        "# --- Imports ---\n",
        "import pandas as pd\n",
        "import numpy as np\n",
        "import joblib\n",
        "from sklearn.feature_extraction.text import CountVectorizer\n",
        "from sklearn.decomposition import TruncatedSVD\n",
        "import matplotlib.pyplot as plt\n",
        "import os\n",
        "import re"
      ],
      "metadata": {
        "id": "PUpFWbS1NKD1"
      },
      "execution_count": 8,
      "outputs": []
    },
    {
      "cell_type": "code",
      "source": [
        "# Load your engineered dataset\n",
        "df = pd.read_parquet(\"/content/engineered_features.parquet\")\n",
        "\n",
        "# Use cleaned text column\n",
        "texts = df[\"clean_text\"].astype(str).tolist()\n",
        "\n",
        "# Optional: load structured feature names\n",
        "structured_features = joblib.load(\"/content/feature_names.json\")\n",
        "X_structured = df[structured_features].values\n",
        "\n",
        "# Tokenize text\n",
        "tokenized_texts = [text.split() for text in texts]\n",
        "joblib.dump(tokenized_texts, \"/content/tokenized_texts.pkl\")\n",
        "\n",
        "print(f\" Loaded {len(tokenized_texts)} tokenized reviews.\")"
      ],
      "metadata": {
        "colab": {
          "base_uri": "https://localhost:8080/"
        },
        "id": "ngog0-ctNKBU",
        "outputId": "231a4452-691d-4ee2-dc72-b39bf9a2b6ce"
      },
      "execution_count": 9,
      "outputs": [
        {
          "output_type": "stream",
          "name": "stdout",
          "text": [
            " Loaded 9480 tokenized reviews.\n"
          ]
        }
      ]
    },
    {
      "cell_type": "code",
      "source": [
        "# Define identity functions to avoid PicklingError with lambdas\n",
        "def identity(x):\n",
        "    return x\n",
        "\n",
        "# Build CountVectorizer using identity functions\n",
        "vectorizer = CountVectorizer(\n",
        "    tokenizer=identity,\n",
        "    preprocessor=identity,\n",
        "    max_features=10000\n",
        ")\n",
        "\n",
        "# Convert tokenized texts to a bag-of-words matrix\n",
        "X_counts = vectorizer.fit_transform(tokenized_texts)\n",
        "\n",
        "# Reduce dimensionality to 100 dimensions (similar to Word2Vec vectors)\n",
        "svd = TruncatedSVD(n_components=100, random_state=42)\n",
        "X_w2v_like = svd.fit_transform(X_counts)\n",
        "\n",
        "# Save Word2Vec-like embeddings and models\n",
        "np.save(\"/content/X_word2vec.npy\", X_w2v_like)\n",
        "joblib.dump(vectorizer, \"/content/word2vec_vectorizer.pkl\")\n",
        "joblib.dump(svd, \"/content/word2vec_svd.pkl\")\n",
        "\n",
        "print(\"Word2Vec-like embeddings created and saved (X_word2vec.npy)\")"
      ],
      "metadata": {
        "colab": {
          "base_uri": "https://localhost:8080/"
        },
        "id": "9ihFQTnaNJ-b",
        "outputId": "f831c80e-509b-4c67-cd2d-1a4285c787fc"
      },
      "execution_count": 10,
      "outputs": [
        {
          "output_type": "stream",
          "name": "stderr",
          "text": [
            "/usr/local/lib/python3.12/dist-packages/sklearn/feature_extraction/text.py:517: UserWarning: The parameter 'token_pattern' will not be used since 'tokenizer' is not None'\n",
            "  warnings.warn(\n"
          ]
        },
        {
          "output_type": "stream",
          "name": "stdout",
          "text": [
            "Word2Vec-like embeddings created and saved (X_word2vec.npy)\n"
          ]
        }
      ]
    },
    {
      "cell_type": "code",
      "source": [
        "glove_path = \"/content/glove.6B.100d.txt\"\n",
        "\n",
        "# Download GloVe file if not already present\n",
        "if not os.path.exists(glove_path):\n",
        "    print(\"  Downloading GloVe embeddings (6B, 100d)...\")\n",
        "    !wget -q http://nlp.stanford.edu/data/glove.6B.zip\n",
        "    !unzip -q glove.6B.zip -d /content/\n",
        "    print(\" GloVe downloaded and extracted.\")\n",
        "\n",
        "# Load GloVe vectors into a dictionary\n",
        "glove_embeddings = {}\n",
        "with open(glove_path, \"r\", encoding=\"utf8\") as f:\n",
        "    for line in f:\n",
        "        parts = line.split()\n",
        "        word = parts[0]\n",
        "        vector = np.array(parts[1:], dtype=\"float32\")\n",
        "        glove_embeddings[word] = vector\n",
        "\n",
        "print(f\" Loaded {len(glove_embeddings):,} GloVe word vectors.\")"
      ],
      "metadata": {
        "colab": {
          "base_uri": "https://localhost:8080/"
        },
        "id": "Mw1rdv6tNJ1A",
        "outputId": "8bf89d53-c235-41d9-eb04-a6f3db8b30e9"
      },
      "execution_count": 11,
      "outputs": [
        {
          "output_type": "stream",
          "name": "stdout",
          "text": [
            "  Downloading GloVe embeddings (6B, 100d)...\n",
            " GloVe downloaded and extracted.\n",
            " Loaded 400,000 GloVe word vectors.\n"
          ]
        }
      ]
    },
    {
      "cell_type": "code",
      "source": [
        "# Helper function to compute average embedding per review\n",
        "def get_glove_vector(tokens, embeddings, dim=100):\n",
        "    vectors = [embeddings[word] for word in tokens if word in embeddings]\n",
        "    if len(vectors) == 0:\n",
        "        return np.zeros(dim)\n",
        "    return np.mean(vectors, axis=0)\n",
        "\n",
        "# Compute GloVe embeddings for each review\n",
        "X_glove = np.array([get_glove_vector(tokens, glove_embeddings) for tokens in tokenized_texts])"
      ],
      "metadata": {
        "id": "Ud6SMKj0NV6b"
      },
      "execution_count": 12,
      "outputs": []
    },
    {
      "cell_type": "code",
      "source": [
        "# Save outputs\n",
        "np.save(\"/content/X_glove.npy\", X_glove)\n",
        "joblib.dump(glove_embeddings, \"/content/glove_embeddings.pkl\")\n",
        "\n",
        "print(\"GloVe embeddings created and saved (X_glove.npy)\")"
      ],
      "metadata": {
        "colab": {
          "base_uri": "https://localhost:8080/"
        },
        "id": "sS8YDHb_NYaS",
        "outputId": "787ba1f3-d985-43b6-869e-04b1aaaae30a"
      },
      "execution_count": 13,
      "outputs": [
        {
          "output_type": "stream",
          "name": "stdout",
          "text": [
            "GloVe embeddings created and saved (X_glove.npy)\n"
          ]
        }
      ]
    },
    {
      "cell_type": "code",
      "source": [
        "plt.figure(figsize=(6, 3))\n",
        "plt.hist(np.mean(X_w2v_like, axis=1), bins=40, alpha=0.6, label=\"Word2Vec-like\")\n",
        "plt.hist(np.mean(X_glove, axis=1), bins=40, alpha=0.6, label=\"GloVe\")\n",
        "plt.title(\"Distribution of Mean Embedding Values\")\n",
        "plt.legend()\n",
        "plt.tight_layout()\n",
        "plt.show()\n",
        "\n",
        "print(\" Embedding process completed successfully!\")"
      ],
      "metadata": {
        "colab": {
          "base_uri": "https://localhost:8080/",
          "height": 324
        },
        "id": "eG2twUUnOK1C",
        "outputId": "4121a931-9b7a-43c1-adc7-b157ed000333"
      },
      "execution_count": 14,
      "outputs": [
        {
          "output_type": "display_data",
          "data": {
            "text/plain": [
              "<Figure size 600x300 with 1 Axes>"
            ],
            "image/png": "[encoded data removed]"
          },
          "metadata": {}
        },
        {
          "output_type": "stream",
          "name": "stdout",
          "text": [
            " Embedding process completed successfully!\n"
          ]
        }
      ]
    }
  ]
}