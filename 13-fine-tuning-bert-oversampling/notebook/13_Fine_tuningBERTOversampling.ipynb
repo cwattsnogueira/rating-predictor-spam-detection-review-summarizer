{
 "nbformat": 4,
 "nbformat_minor": 0,
 "metadata": {
  "colab": {
   "provenance": [],
   "gpuType": "A100"
  },
  "kernelspec": {
   "name": "python3",
   "display_name": "Python 3"
  },
  "language_info": {
   "name": "python"
  },
  "accelerator": "GPU"
 },
 "cells": [
  {
   "cell_type": "code",
   "source": [
    "!pip install transformers datasets scikit-learn joblib matplotlib seaborn --quiet"
   ],
   "metadata": {
    "id": "NDLsTWq3TdIW"
   },
   "execution_count": null,
   "outputs": []
  },
  {
   "cell_type": "code",
   "source": [
    "import pandas as pd\n",
    "import numpy as np\n",
    "import torch\n",
    "from torch.utils.data import DataLoader\n",
    "from torch.optim import AdamW\n",
    "from transformers import BertTokenizer, BertForSequenceClassification, get_scheduler\n",
    "from datasets import Dataset\n",
    "from sklearn.utils.class_weight import compute_class_weight\n",
    "from sklearn.metrics import classification_report, confusion_matrix\n",
    "from torch.nn.functional import softmax\n",
    "from tqdm import tqdm\n",
    "import joblib\n",
    "import matplotlib.pyplot as plt\n",
    "import seaborn as sns"
   ],
   "metadata": {
    "id": "esVs3iTjTixn"
   },
   "execution_count": null,
   "outputs": []
  },
  {
   "cell_type": "code",
   "source": [
    "df = pd.read_parquet(\"/content/engineered_features_with_anomalies.parquet\")\n",
    "df = df[['clean_text', 'fake_review_label']].dropna()\n",
    "\n",
    "# Oversample class 1 (fake reviews)\n",
    "df_fake = df[df['fake_review_label'] == 1]\n",
    "df_balanced = pd.concat([\n",
    "    df,\n",
    "    df_fake.sample(n=len(df[df['fake_review_label'] == 0]), replace=True)\n",
    "])\n",
    "\n",
    "sns.countplot(x='fake_review_label', data=df_balanced, palette='Set2')\n",
    "plt.title(\"Balanced Fake Review Label Distribution\")\n",
    "plt.xlabel(\"Label (0 = Genuine, 1 = Fake)\")\n",
    "plt.ylabel(\"Count\")\n",
    "plt.tight_layout()\n",
    "plt.show()"
   ],
   "metadata": {
    "colab": {
     "base_uri": "https://localhost:8080/",
     "height": 574
    },
    "id": "RB4dQSh4Tjhl",
    "outputId": "744d5d4a-16f1-42b1-cf06-096bbae79213"
   },
   "execution_count": null,
   "outputs": [
    {
     "output_type": "stream",
     "name": "stderr",
     "text": [
      "/tmp/ipython-input-1651771540.py:11: FutureWarning: \n",
      "\n",
      "Passing `palette` without assigning `hue` is deprecated and will be removed in v0.14.0. Assign the `x` variable to `hue` and set `legend=False` for the same effect.\n",
      "\n",
      "  sns.countplot(x='fake_review_label', data=df_balanced, palette='Set2')\n"
     ]
    },
    {
     "output_type": "display_data",
     "data": {
      "text/plain": [
       "<Figure size 640x480 with 1 Axes>"
      ],
      "image/png": "[encoded data removed]"
     },
     "metadata": {}
    }
   ]
  },
  {
   "cell_type": "code",
   "source": [
    "fake_reviews = df[df['fake_review_label'] == 0]\n",
    "fake_reviews.head(70)"
   ],
   "metadata": {
    "colab": {
     "base_uri": "https://localhost:8080/",
     "height": 424
    },
    "id": "U2Z82_8Gm0xk",
    "outputId": "23a35052-c10c-4c9d-e30b-7770c52e1898"
   },
   "execution_count": null,
   "outputs": [
    {
     "output_type": "execute_result",
     "data": {
      "text/plain": [
       "                                           clean_text  fake_review_label\n",
       "4   husband bought gel us gel caused irritation fe...                  0\n",
       "6   bought earlier today excited check based produ...                  0\n",
       "7   bought product husband try impressed tingling ...                  0\n",
       "8   husband bought extra fun werevboth extremely d...                  0\n",
       "9   got surprise husband nothing special lube save...                  0\n",
       "..                                                ...                ...\n",
       "72  although product worked amazingly well fragran...                  0\n",
       "73  love product used least years prefer old formu...                  0\n",
       "74  want try answer questions sounds like product ...                  0\n",
       "75  product really helped keep skin moisturized wi...                  0\n",
       "76         product smells amazing need use often skin                  0\n",
       "\n",
       "[70 rows x 2 columns]"
      ],
      "text/html": [
       "\n",
       "  <div id=\"df-bbfc9dd1-74d8-4f27-9200-e5946c928888\" class=\"colab-df-container\">\n",
       "    <div>\n",
       "<style scoped>\n",
       "    .dataframe tbody tr th:only-of-type {\n",
       "        vertical-align: middle;\n",
       "    }\n",
       "\n",
       "    .dataframe tbody tr th {\n",
       "        vertical-align: top;\n",
       "    }\n",
       "\n",
       "    .dataframe thead th {\n",
       "        text-align: right;\n",
       "    }\n",
       "</style>\n",
       "<table border=\"1\" class=\"dataframe\">\n",
       "  <thead>\n",
       "    <tr style=\"text-align: right;\">\n",
       "      <th></th>\n",
       "      <th>clean_text</th>\n",
       "      <th>fake_review_label</th>\n",
       "    </tr>\n",
       "  </thead>\n",
       "  <tbody>\n",
       "    <tr>\n",
       "      <th>4</th>\n",
       "      <td>husband bought gel us gel caused irritation fe...</td>\n",
       "      <td>0</td>\n",
       "    </tr>\n",
       "    <tr>\n",
       "      <th>6</th>\n",
       "      <td>bought earlier today excited check based produ...</td>\n",
       "      <td>0</td>\n",
       "    </tr>\n",
       "    <tr>\n",
       "      <th>7</th>\n",
       "      <td>bought product husband try impressed tingling ...</td>\n",
       "      <td>0</td>\n",
       "    </tr>\n",
       "    <tr>\n",
       "      <th>8</th>\n",
       "      <td>husband bought extra fun werevboth extremely d...</td>\n",
       "      <td>0</td>\n",
       "    </tr>\n",
       "    <tr>\n",
       "      <th>9</th>\n",
       "      <td>got surprise husband nothing special lube save...</td>\n",
       "      <td>0</td>\n",
       "    </tr>\n",
       "    <tr>\n",
       "      <th>...</th>\n",
       "      <td>...</td>\n",
       "      <td>...</td>\n",
       "    </tr>\n",
       "    <tr>\n",
       "      <th>72</th>\n",
       "      <td>although product worked amazingly well fragran...</td>\n",
       "      <td>0</td>\n",
       "    </tr>\n",
       "    <tr>\n",
       "      <th>73</th>\n",
       "      <td>love product used least years prefer old formu...</td>\n",
       "      <td>0</td>\n",
       "    </tr>\n",
       "    <tr>\n",
       "      <th>74</th>\n",
       "      <td>want try answer questions sounds like product ...</td>\n",
       "      <td>0</td>\n",
       "    </tr>\n",
       "    <tr>\n",
       "      <th>75</th>\n",
       "      <td>product really helped keep skin moisturized wi...</td>\n",
       "      <td>0</td>\n",
       "    </tr>\n",
       "    <tr>\n",
       "      <th>76</th>\n",
       "      <td>product smells amazing need use often skin</td>\n",
       "      <td>0</td>\n",
       "    </tr>\n",
       "  </tbody>\n",
       "</table>\n",
       "<p>70 rows \u00d7 2 columns</p>\n",
       "</div>\n",
       "    <div class=\"colab-df-buttons\">\n",
       "\n",
       "  <div class=\"colab-df-container\">\n",
       "    <button class=\"colab-df-convert\" onclick=\"convertToInteractive('df-bbfc9dd1-74d8-4f27-9200-e5946c928888')\"\n",
       "            title=\"Convert this dataframe to an interactive table.\"\n",
       "            style=\"display:none;\">\n",
       "\n",
       "  <svg xmlns=\"http://www.w3.org/2000/svg\" height=\"24px\" viewBox=\"0 -960 960 960\">\n",
       "    <path d=\"M120-120v-720h720v720H120Zm60-500h600v-160H180v160Zm220 220h160v-160H400v160Zm0 220h160v-160H400v160ZM180-400h160v-160H180v160Zm440 0h160v-160H620v160ZM180-180h160v-160H180v160Zm440 0h160v-160H620v160Z\"/>\n",
       "  </svg>\n",
       "    </button>\n",
       "\n",
       "  <style>\n",
       "    .colab-df-container {\n",
       "      display:flex;\n",
       "      gap: 12px;\n",
       "    }\n",
       "\n",
       "    .colab-df-convert {\n",
       "      background-color: #E8F0FE;\n",
       "      border: none;\n",
       "      border-radius: 50%;\n",
       "      cursor: pointer;\n",
       "      display: none;\n",
       "      fill: #1967D2;\n",
       "      height: 32px;\n",
       "      padding: 0 0 0 0;\n",
       "      width: 32px;\n",
       "    }\n",
       "\n",
       "    .colab-df-convert:hover {\n",
       "      background-color: #E2EBFA;\n",
       "      box-shadow: 0px 1px 2px rgba(60, 64, 67, 0.3), 0px 1px 3px 1px rgba(60, 64, 67, 0.15);\n",
       "      fill: #174EA6;\n",
       "    }\n",
       "\n",
       "    .colab-df-buttons div {\n",
       "      margin-bottom: 4px;\n",
       "    }\n",
       "\n",
       "    [theme=dark] .colab-df-convert {\n",
       "      background-color: #3B4455;\n",
       "      fill: #D2E3FC;\n",
       "    }\n",
       "\n",
       "    [theme=dark] .colab-df-convert:hover {\n",
       "      background-color: #434B5C;\n",
       "      box-shadow: 0px 1px 3px 1px rgba(0, 0, 0, 0.15);\n",
       "      filter: drop-shadow(0px 1px 2px rgba(0, 0, 0, 0.3));\n",
       "      fill: #FFFFFF;\n",
       "    }\n",
       "  </style>\n",
       "\n",
       "    <script>\n",
       "      const buttonEl =\n",
       "        document.querySelector('#df-bbfc9dd1-74d8-4f27-9200-e5946c928888 button.colab-df-convert');\n",
       "      buttonEl.style.display =\n",
       "        google.colab.kernel.accessAllowed ? 'block' : 'none';\n",
       "\n",
       "      async function convertToInteractive(key) {\n",
       "        const element = document.querySelector('#df-bbfc9dd1-74d8-4f27-9200-e5946c928888');\n",
       "        const dataTable =\n",
       "          await google.colab.kernel.invokeFunction('convertToInteractive',\n",
       "                                                    [key], {});\n",
       "        if (!dataTable) return;\n",
       "\n",
       "        const docLinkHtml = 'Like what you see? Visit the ' +\n",
       "          '<a target=\"_blank\" href=https://colab.research.google.com/notebooks/data_table.ipynb>data table notebook</a>'\n",
       "          + ' to learn more about interactive tables.';\n",
       "        element.innerHTML = '';\n",
       "        dataTable['output_type'] = 'display_data';\n",
       "        await google.colab.output.renderOutput(dataTable, element);\n",
       "        const docLink = document.createElement('div');\n",
       "        docLink.innerHTML = docLinkHtml;\n",
       "        element.appendChild(docLink);\n",
       "      }\n",
       "    </script>\n",
       "  </div>\n",
       "\n",
       "\n",
       "    <div id=\"df-af551db8-dbb5-4d2d-9e38-d26141a5d072\">\n",
       "      <button class=\"colab-df-quickchart\" onclick=\"quickchart('df-af551db8-dbb5-4d2d-9e38-d26141a5d072')\"\n",
       "                title=\"Suggest charts\"\n",
       "                style=\"display:none;\">\n",
       "\n",
       "<svg xmlns=\"http://www.w3.org/2000/svg\" height=\"24px\"viewBox=\"0 0 24 24\"\n",
       "     width=\"24px\">\n",
       "    <g>\n",
       "        <path d=\"M19 3H5c-1.1 0-2 .9-2 2v14c0 1.1.9 2 2 2h14c1.1 0 2-.9 2-2V5c0-1.1-.9-2-2-2zM9 17H7v-7h2v7zm4 0h-2V7h2v10zm4 0h-2v-4h2v4z\"/>\n",
       "    </g>\n",
       "</svg>\n",
       "      </button>\n",
       "\n",
       "<style>\n",
       "  .colab-df-quickchart {\n",
       "      --bg-color: #E8F0FE;\n",
       "      --fill-color: #1967D2;\n",
       "      --hover-bg-color: #E2EBFA;\n",
       "      --hover-fill-color: #174EA6;\n",
       "      --disabled-fill-color: #AAA;\n",
       "      --disabled-bg-color: #DDD;\n",
       "  }\n",
       "\n",
       "  [theme=dark] .colab-df-quickchart {\n",
       "      --bg-color: #3B4455;\n",
       "      --fill-color: #D2E3FC;\n",
       "      --hover-bg-color: #434B5C;\n",
       "      --hover-fill-color: #FFFFFF;\n",
       "      --disabled-bg-color: #3B4455;\n",
       "      --disabled-fill-color: #666;\n",
       "  }\n",
       "\n",
       "  .colab-df-quickchart {\n",
       "    background-color: var(--bg-color);\n",
       "    border: none;\n",
       "    border-radius: 50%;\n",
       "    cursor: pointer;\n",
       "    display: none;\n",
       "    fill: var(--fill-color);\n",
       "    height: 32px;\n",
       "    padding: 0;\n",
       "    width: 32px;\n",
       "  }\n",
       "\n",
       "  .colab-df-quickchart:hover {\n",
       "    background-color: var(--hover-bg-color);\n",
       "    box-shadow: 0 1px 2px rgba(60, 64, 67, 0.3), 0 1px 3px 1px rgba(60, 64, 67, 0.15);\n",
       "    fill: var(--button-hover-fill-color);\n",
       "  }\n",
       "\n",
       "  .colab-df-quickchart-complete:disabled,\n",
       "  .colab-df-quickchart-complete:disabled:hover {\n",
       "    background-color: var(--disabled-bg-color);\n",
       "    fill: var(--disabled-fill-color);\n",
       "    box-shadow: none;\n",
       "  }\n",
       "\n",
       "  .colab-df-spinner {\n",
       "    border: 2px solid var(--fill-color);\n",
       "    border-color: transparent;\n",
       "    border-bottom-color: var(--fill-color);\n",
       "    animation:\n",
       "      spin 1s steps(1) infinite;\n",
       "  }\n",
       "\n",
       "  @keyframes spin {\n",
       "    0% {\n",
       "      border-color: transparent;\n",
       "      border-bottom-color: var(--fill-color);\n",
       "      border-left-color: var(--fill-color);\n",
       "    }\n",
       "    20% {\n",
       "      border-color: transparent;\n",
       "      border-left-color: var(--fill-color);\n",
       "      border-top-color: var(--fill-color);\n",
       "    }\n",
       "    30% {\n",
       "      border-color: transparent;\n",
       "      border-left-color: var(--fill-color);\n",
       "      border-top-color: var(--fill-color);\n",
       "      border-right-color: var(--fill-color);\n",
       "    }\n",
       "    40% {\n",
       "      border-color: transparent;\n",
       "      border-right-color: var(--fill-color);\n",
       "      border-top-color: var(--fill-color);\n",
       "    }\n",
       "    60% {\n",
       "      border-color: transparent;\n",
       "      border-right-color: var(--fill-color);\n",
       "    }\n",
       "    80% {\n",
       "      border-color: transparent;\n",
       "      border-right-color: var(--fill-color);\n",
       "      border-bottom-color: var(--fill-color);\n",
       "    }\n",
       "    90% {\n",
       "      border-color: transparent;\n",
       "      border-bottom-color: var(--fill-color);\n",
       "    }\n",
       "  }\n",
       "</style>\n",
       "\n",
       "      <script>\n",
       "        async function quickchart(key) {\n",
       "          const quickchartButtonEl =\n",
       "            document.querySelector('#' + key + ' button');\n",
       "          quickchartButtonEl.disabled = true;  // To prevent multiple clicks.\n",
       "          quickchartButtonEl.classList.add('colab-df-spinner');\n",
       "          try {\n",
       "            const charts = await google.colab.kernel.invokeFunction(\n",
       "                'suggestCharts', [key], {});\n",
       "          } catch (error) {\n",
       "            console.error('Error during call to suggestCharts:', error);\n",
       "          }\n",
       "          quickchartButtonEl.classList.remove('colab-df-spinner');\n",
       "          quickchartButtonEl.classList.add('colab-df-quickchart-complete');\n",
       "        }\n",
       "        (() => {\n",
       "          let quickchartButtonEl =\n",
       "            document.querySelector('#df-af551db8-dbb5-4d2d-9e38-d26141a5d072 button');\n",
       "          quickchartButtonEl.style.display =\n",
       "            google.colab.kernel.accessAllowed ? 'block' : 'none';\n",
       "        })();\n",
       "      </script>\n",
       "    </div>\n",
       "\n",
       "    </div>\n",
       "  </div>\n"
      ],
      "application/vnd.google.colaboratory.intrinsic+json": {
       "type": "dataframe",
       "variable_name": "fake_reviews",
       "summary": "{\n  \"name\": \"fake_reviews\",\n  \"rows\": 8800,\n  \"fields\": [\n    {\n      \"column\": \"clean_text\",\n      \"properties\": {\n        \"dtype\": \"string\",\n        \"num_unique_values\": 8787,\n        \"samples\": [\n          \"whoever comedy enjoy watching\",\n          \"use folders time class papers home organizing kids papers everything inside dividers perfect concept would add need durablethey tear easily color choices ease organizing\",\n          \"lovable endearing madcap characters original film still us wonderful follow still fun tough beat original film still love collection\"\n        ],\n        \"semantic_type\": \"\",\n        \"description\": \"\"\n      }\n    },\n    {\n      \"column\": \"fake_review_label\",\n      \"properties\": {\n        \"dtype\": \"number\",\n        \"std\": 0,\n        \"min\": 0,\n        \"max\": 0,\n        \"num_unique_values\": 1,\n        \"samples\": [\n          0\n        ],\n        \"semantic_type\": \"\",\n        \"description\": \"\"\n      }\n    }\n  ]\n}"
      }
     },
     "metadata": {},
     "execution_count": 13
    }
   ]
  },
  {
   "cell_type": "code",
   "source": [
    "class_weights = compute_class_weight(class_weight='balanced',\n",
    "                                     classes=np.unique(df_balanced['fake_review_label']),\n",
    "                                     y=df_balanced['fake_review_label'])\n",
    "class_weights_tensor = torch.tensor(class_weights, dtype=torch.float)"
   ],
   "metadata": {
    "id": "X56n38qsTljz"
   },
   "execution_count": null,
   "outputs": []
  },
  {
   "cell_type": "code",
   "source": [
    "tokenizer = BertTokenizer.from_pretrained('bert-base-uncased')\n",
    "\n",
    "dataset = Dataset.from_pandas(df_balanced[['clean_text', 'fake_review_label']])\n",
    "dataset = dataset.train_test_split(test_size=0.2, seed=42)\n",
    "\n",
    "def tokenize_function(example):\n",
    "    return tokenizer(example['clean_text'], truncation=True, padding='max_length', max_length=128)\n",
    "\n",
    "tokenized_dataset = dataset.map(tokenize_function, batched=True)\n",
    "tokenized_dataset.set_format(type='torch', columns=['input_ids', 'attention_mask', 'fake_review_label'])\n",
    "\n",
    "train_dataloader = DataLoader(tokenized_dataset['train'], batch_size=16, shuffle=True)\n",
    "eval_dataloader = DataLoader(tokenized_dataset['test'], batch_size=16)"
   ],
   "metadata": {
    "colab": {
     "base_uri": "https://localhost:8080/",
     "height": 313,
     "referenced_widgets": [
      "6079dbedc2b04292a6b2cc5fe9070ffd",
      "163e97af15a74766862e0a916fbbd403",
      "5250bf83fb3f409ea53185a547fadd94",
      "689ed274a29e48c88f20ee492492de7e",
      "7c13624f3f054ff099808f06cb369e41",
      "b6c7d02f07a14125ab44ba8ec96a3c77",
      "ab346536f4c7411fa3dbcb35580aaab9",
      "7476e93af07b49409837a92a1c99352c",
      "ff316bdadc0a44e9af910c0715db5d42",
      "db02cd1464a442f68a785649dd74a863",
      "a1e181ab24e44d0b846d82b67a9117cb",
      "c4148deee1f3414e898da18c90ae83b4",
      "6df9d4a9cbf045808b070d3a474491a3",
      "210d370f52264ae9ad8bea160f1f7812",
      "c3d7e13fbf82464fbf6ee91ad64326bf",
      "d76640e992b546d4bc0b9e5247a0731e",
      "246c1d4d844c454791b4028fdd37c23f",
      "386eefe183c14e08b98b95706bdfccab",
      "c047daaa234f4f42b37792d60532d4ea",
      "eaeb342e8c95420da081fe9bd15a12d8",
      "a3fbc58f97a241fa8f74769883dadc8e",
      "6d1216ef51364de89db1fbc78c6036c8",
      "3c2b6e81d4ee416a9c3044bce802ac5d",
      "cbdf2c6032034cf1a2c9e65ba3e35640",
      "5728829d4fc043a6aaf2d12f7d4cce1f",
      "cb1bf9cf4fca4e32ba21cbf2c4dd9516",
      "7b732801fe254430b61d12488d499814",
      "5ab5c5560e46487087b09ab0d69ca5b1",
      "646b96db01ee4043808e2b1561d4d787",
      "9ea2f143caa442a0b17546914777d8e2",
      "6a5149ceaf88466c8a7f3da762ad3417",
      "535056b0d1f746d1bb07f4b405d917ca",
      "249e1013b1df446ca7e9092baa64c80f",
      "5f00ff5e53b74e4a9949975a4794642a",
      "8ae07330dfef41b888a3db815399dc50",
      "13a1f0c8a78143a8b297bb36840b4e67",
      "9e5712d6eef543ae81a3f74fbb935c42",
      "af51208b059c40f8bc4ded5aad7f4679",
      "20cb48895eee4ee9a9ae886637151c0a",
      "d4d1a2580cb74bf3a16a85f6e0cc0035",
      "a46daef9ce6249528d16b6b7bfb51c3f",
      "63760b44cc154980811ee12d5966f293",
      "1aea77b9f243404885f07b5a593849c8",
      "64c4b2d7ded84d3e83daf1e47e3b52f0",
      "18b2cdb71d9949828a025cbb089d99f4",
      "08bf21dcd142491fb9233ac0bbd44d91",
      "787c9c225e5d49d88b5315bbc351dbbb",
      "34498c5bd7c04997b24b0078e3494b0e",
      "9b77be05c6a5442a959e53466a5f81ca",
      "224fc49bc7c346f09aba9e99b6fc6aeb",
      "ef85903159b548a7a794d97290461f7a",
      "eb95998c3d7a4e75a8a91cbddc831943",
      "b26ef06650b94a6da5e1387ab7129445",
      "9f05094293d742568703e31481610230",
      "cc7f1e3fa63e46cdb805464c8e507f2b",
      "306c7c6159554463baf7b9e689840eda",
      "1bd870ebdcd54bb69ac8c04de5781554",
      "b06129c4c6c845c1a5e3407301920619",
      "24d1bd61aecd445ba21f2add4d577920",
      "58db847a6ee5459194a4a559d561d2a8",
      "f1026b5f4978447faf85fef4d431313c",
      "03afb9631a994fbdbdeb1ef5dad19726",
      "f4dd50039bea45319a57957b49ee72c6",
      "c0e0818edfce412cb5ebe373da8d8012",
      "b7fe0d3ec0d6421496c385bd4a329f13",
      "9324d47bdfbe4f7ab2a4e80dc267c264"
     ]
    },
    "id": "SCmIzY0LTmML",
    "outputId": "6154bb5e-1b46-4a51-a6ec-8892262cdb4a"
   },
   "execution_count": null,
   "outputs": [
    {
     "output_type": "stream",
     "name": "stderr",
     "text": [
      "/usr/local/lib/python3.12/dist-packages/huggingface_hub/utils/_auth.py:94: UserWarning: \n",
      "The secret `HF_TOKEN` does not exist in your Colab secrets.\n",
      "To authenticate with the Hugging Face Hub, create a token in your settings tab (https://huggingface.co/settings/tokens), set it as secret in your Google Colab and restart your session.\n",
      "You will be able to reuse this secret in all of your notebooks.\n",
      "Please note that authentication is recommended but still optional to access public models or datasets.\n",
      "  warnings.warn(\n"
     ]
    },
    {
     "output_type": "display_data",
     "data": {
      "text/plain": [
       "tokenizer_config.json:   0%|          | 0.00/48.0 [00:00<?, ?B/s]"
      ],
      "application/vnd.jupyter.widget-view+json": {
       "version_major": 2,
       "version_minor": 0,
       "model_id": "6079dbedc2b04292a6b2cc5fe9070ffd"
      }
     },
     "metadata": {}
    },
    {
     "output_type": "display_data",
     "data": {
      "text/plain": [
       "vocab.txt:   0%|          | 0.00/232k [00:00<?, ?B/s]"
      ],
      "application/vnd.jupyter.widget-view+json": {
       "version_major": 2,
       "version_minor": 0,
       "model_id": "c4148deee1f3414e898da18c90ae83b4"
      }
     },
     "metadata": {}
    },
    {
     "output_type": "display_data",
     "data": {
      "text/plain": [
       "tokenizer.json:   0%|          | 0.00/466k [00:00<?, ?B/s]"
      ],
      "application/vnd.jupyter.widget-view+json": {
       "version_major": 2,
       "version_minor": 0,
       "model_id": "3c2b6e81d4ee416a9c3044bce802ac5d"
      }
     },
     "metadata": {}
    },
    {
     "output_type": "display_data",
     "data": {
      "text/plain": [
       "config.json:   0%|          | 0.00/570 [00:00<?, ?B/s]"
      ],
      "application/vnd.jupyter.widget-view+json": {
       "version_major": 2,
       "version_minor": 0,
       "model_id": "5f00ff5e53b74e4a9949975a4794642a"
      }
     },
     "metadata": {}
    },
    {
     "output_type": "display_data",
     "data": {
      "text/plain": [
       "Map:   0%|          | 0/14624 [00:00<?, ? examples/s]"
      ],
      "application/vnd.jupyter.widget-view+json": {
       "version_major": 2,
       "version_minor": 0,
       "model_id": "18b2cdb71d9949828a025cbb089d99f4"
      }
     },
     "metadata": {}
    },
    {
     "output_type": "display_data",
     "data": {
      "text/plain": [
       "Map:   0%|          | 0/3656 [00:00<?, ? examples/s]"
      ],
      "application/vnd.jupyter.widget-view+json": {
       "version_major": 2,
       "version_minor": 0,
       "model_id": "306c7c6159554463baf7b9e689840eda"
      }
     },
     "metadata": {}
    }
   ]
  },
  {
   "cell_type": "code",
   "source": [
    "device = torch.device(\"cuda\" if torch.cuda.is_available() else \"cpu\")\n",
    "\n",
    "model = BertForSequenceClassification.from_pretrained('bert-base-uncased', num_labels=2)\n",
    "model.to(device)\n",
    "\n",
    "optimizer = AdamW(model.parameters(), lr=2e-5)\n",
    "num_epochs = 10\n",
    "lr_scheduler = get_scheduler(\"linear\", optimizer=optimizer,\n",
    "                             num_warmup_steps=0,\n",
    "                             num_training_steps=num_epochs * len(train_dataloader))\n",
    "\n",
    "loss_fn = torch.nn.CrossEntropyLoss(weight=class_weights_tensor.to(device))"
   ],
   "metadata": {
    "colab": {
     "base_uri": "https://localhost:8080/",
     "height": 84,
     "referenced_widgets": [
      "9a5f3fb6a0ec4fe08aad7880adb299a4",
      "a17586e8042b4a7bafcc3dd934ec5f46",
      "29c6d1c432f441efb915db34bdff70b2",
      "3bb7d3e3927746edac68510bd1e737ed",
      "68c94cce5fa1410ea8c2f00444f55071",
      "79c7684c1d354351abeb279eb0b96bbe",
      "fd7314b72846467dab9f461f8439b3b0",
      "c248901d245b4416843da1a14e8d6470",
      "95c533616ad84ba6a02db8e2381e5dad",
      "157e690febf74bce918a56a2e523ed28",
      "3eae570522b54ffbb2f55713a5bddbbb"
     ]
    },
    "id": "p-Trj9XSTnmd",
    "outputId": "778b8aec-dcba-40ca-dfac-4cf4ca299fdd"
   },
   "execution_count": null,
   "outputs": [
    {
     "output_type": "display_data",
     "data": {
      "text/plain": [
       "model.safetensors:   0%|          | 0.00/440M [00:00<?, ?B/s]"
      ],
      "application/vnd.jupyter.widget-view+json": {
       "version_major": 2,
       "version_minor": 0,
       "model_id": "9a5f3fb6a0ec4fe08aad7880adb299a4"
      }
     },
     "metadata": {}
    },
    {
     "output_type": "stream",
     "name": "stderr",
     "text": [
      "Some weights of BertForSequenceClassification were not initialized from the model checkpoint at bert-base-uncased and are newly initialized: ['classifier.bias', 'classifier.weight']\n",
      "You should probably TRAIN this model on a down-stream task to be able to use it for predictions and inference.\n"
     ]
    }
   ]
  },
  {
   "cell_type": "code",
   "source": [
    "best_val_loss = float('inf')\n",
    "patience = 2\n",
    "counter = 0\n",
    "\n",
    "for epoch in range(num_epochs):\n",
    "    model.train()\n",
    "    for batch in tqdm(train_dataloader, desc=f\"Epoch {epoch}\"):\n",
    "        batch = {k: v.to(device) for k, v in batch.items()}\n",
    "        outputs = model(input_ids=batch['input_ids'],\n",
    "                        attention_mask=batch['attention_mask'],\n",
    "                        labels=batch['fake_review_label'])\n",
    "        loss = loss_fn(outputs.logits, batch['fake_review_label'])\n",
    "        loss.backward()\n",
    "        torch.nn.utils.clip_grad_norm_(model.parameters(), 1.0)\n",
    "        optimizer.step(); lr_scheduler.step(); optimizer.zero_grad()\n",
    "\n",
    "    # Validation\n",
    "    model.eval(); val_loss = 0\n",
    "    with torch.no_grad():\n",
    "        for batch in eval_dataloader:\n",
    "            batch = {k: v.to(device) for k, v in batch.items()}\n",
    "            outputs = model(input_ids=batch['input_ids'],\n",
    "                            attention_mask=batch['attention_mask'],\n",
    "                            labels=batch['fake_review_label'])\n",
    "            loss = loss_fn(outputs.logits, batch['fake_review_label'])\n",
    "            val_loss += loss.item()\n",
    "\n",
    "    avg_val_loss = val_loss / len(eval_dataloader)\n",
    "    print(f\"Epoch {epoch} - Validation Loss: {avg_val_loss:.4f}\")\n",
    "    if avg_val_loss < best_val_loss:\n",
    "        best_val_loss, counter = avg_val_loss, 0\n",
    "        torch.save(model.state_dict(), \"best_model_oversampled.pt\")\n",
    "    else:\n",
    "        counter += 1\n",
    "        if counter >= patience:\n",
    "            print(\"Early stopping triggered.\"); break"
   ],
   "metadata": {
    "colab": {
     "base_uri": "https://localhost:8080/"
    },
    "id": "lN8hU2ZdTvMx",
    "outputId": "673acf83-fe39-4fa4-909f-4b974aa7a606"
   },
   "execution_count": null,
   "outputs": [
    {
     "output_type": "stream",
     "name": "stderr",
     "text": [
      "Epoch 0: 100%|\u2588\u2588\u2588\u2588\u2588\u2588\u2588\u2588\u2588\u2588| 914/914 [01:15<00:00, 12.15it/s]\n"
     ]
    },
    {
     "output_type": "stream",
     "name": "stdout",
     "text": [
      "Epoch 0 - Validation Loss: 0.1511\n"
     ]
    },
    {
     "output_type": "stream",
     "name": "stderr",
     "text": [
      "Epoch 1: 100%|\u2588\u2588\u2588\u2588\u2588\u2588\u2588\u2588\u2588\u2588| 914/914 [01:14<00:00, 12.35it/s]\n"
     ]
    },
    {
     "output_type": "stream",
     "name": "stdout",
     "text": [
      "Epoch 1 - Validation Loss: 0.1807\n"
     ]
    },
    {
     "output_type": "stream",
     "name": "stderr",
     "text": [
      "Epoch 2: 100%|\u2588\u2588\u2588\u2588\u2588\u2588\u2588\u2588\u2588\u2588| 914/914 [01:13<00:00, 12.36it/s]\n"
     ]
    },
    {
     "output_type": "stream",
     "name": "stdout",
     "text": [
      "Epoch 2 - Validation Loss: 0.1623\n",
      "Early stopping triggered.\n"
     ]
    }
   ]
  },
  {
   "cell_type": "code",
   "source": [
    "model.load_state_dict(torch.load(\"best_model_oversampled.pt\"))\n",
    "model.eval()\n",
    "\n",
    "all_preds, all_labels = [], []\n",
    "\n",
    "with torch.no_grad():\n",
    "    for batch in eval_dataloader:\n",
    "        batch = {k: v.to(device) for k, v in batch.items()}\n",
    "        outputs = model(input_ids=batch['input_ids'],\n",
    "                        attention_mask=batch['attention_mask'])\n",
    "        preds = torch.argmax(outputs.logits, dim=-1)\n",
    "        all_preds.extend(preds.cpu().numpy())\n",
    "        all_labels.extend(batch['fake_review_label'].cpu().numpy())\n",
    "\n",
    "report = classification_report(all_labels, all_preds, zero_division=0, output_dict=True)\n",
    "print(classification_report(all_labels, all_preds, zero_division=0))\n",
    "\n",
    "cm = confusion_matrix(all_labels, all_preds)\n",
    "sns.heatmap(cm, annot=True, fmt='d', cmap='Blues')\n",
    "plt.xlabel(\"Predicted\")\n",
    "plt.ylabel(\"True\")\n",
    "plt.title(\"Confusion Matrix (Oversampling)\")\n",
    "plt.tight_layout()\n",
    "plt.show()\n",
    "\n",
    "for i in range(2):\n",
    "    correct = np.sum((np.array(all_labels) == i) & (np.array(all_preds) == i))\n",
    "    total = np.sum(np.array(all_labels) == i)\n",
    "    acc = correct / total if total > 0 else 0\n",
    "    print(f\"Accuracy for Class {i} ({['Genuine','Fake'][i]}): {acc:.2%}\")"
   ],
   "metadata": {
    "colab": {
     "base_uri": "https://localhost:8080/",
     "height": 678
    },
    "id": "NW8rC31jT55q",
    "outputId": "4bbc2017-d945-4418-d074-5d4c3195cceb"
   },
   "execution_count": null,
   "outputs": [
    {
     "output_type": "stream",
     "name": "stdout",
     "text": [
      "              precision    recall  f1-score   support\n",
      "\n",
      "           0       1.00      0.89      0.94      1786\n",
      "           1       0.90      1.00      0.95      1870\n",
      "\n",
      "    accuracy                           0.95      3656\n",
      "   macro avg       0.95      0.94      0.94      3656\n",
      "weighted avg       0.95      0.95      0.94      3656\n",
      "\n"
     ]
    },
    {
     "output_type": "display_data",
     "data": {
      "text/plain": [
       "<Figure size 640x480 with 2 Axes>"
      ],
      "image/png": "[encoded data removed]"
     },
     "metadata": {}
    },
    {
     "output_type": "stream",
     "name": "stdout",
     "text": [
      "Accuracy for Class 0 (Genuine): 88.80%\n",
      "Accuracy for Class 1 (Fake): 99.95%\n"
     ]
    }
   ]
  },
  {
   "cell_type": "code",
   "source": [
    "joblib.dump({\n",
    "    \"classification_report\": report,\n",
    "    \"confusion_matrix\": cm.tolist(),\n",
    "    \"class_weights\": class_weights.tolist()\n",
    "}, \"bert_oversampling_metrics.pkl\")\n",
    "\n",
    "torch.save(model.state_dict(), \"final_oversampling_model.pt\")\n",
    "model.save_pretrained(\"bert_oversampling_model\")\n",
    "tokenizer.save_pretrained(\"bert_oversampling_model\")"
   ],
   "metadata": {
    "colab": {
     "base_uri": "https://localhost:8080/"
    },
    "id": "DgJusMnbYwZH",
    "outputId": "dc0338be-aaf1-4026-b135-8a4083c2a5e0"
   },
   "execution_count": null,
   "outputs": [
    {
     "output_type": "execute_result",
     "data": {
      "text/plain": [
       "('bert_oversampling_model/tokenizer_config.json',\n",
       " 'bert_oversampling_model/special_tokens_map.json',\n",
       " 'bert_oversampling_model/vocab.txt',\n",
       " 'bert_oversampling_model/added_tokens.json')"
      ]
     },
     "metadata": {},
     "execution_count": 9
    }
   ]
  }
 ]
}