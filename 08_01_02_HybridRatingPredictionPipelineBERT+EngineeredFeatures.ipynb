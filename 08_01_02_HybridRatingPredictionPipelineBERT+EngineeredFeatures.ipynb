{
  "nbformat": 4,
  "nbformat_minor": 0,
  "metadata": {
    "colab": {
      "provenance": [],
      "gpuType": "T4",
      "include_colab_link": true
    },
    "kernelspec": {
      "name": "python3",
      "display_name": "Python 3"
    },
    "language_info": {
      "name": "python"
    },
    "accelerator": "GPU"
  },
  "cells": [
    {
      "cell_type": "markdown",
      "metadata": {
        "id": "view-in-github",
        "colab_type": "text"
      },
      "source": [
        "<a href=\"https://colab.research.google.com/github/cwattsnogueira/rating-predictor-spam-detection-review-summarizer/blob/main/08_01_02_HybridRatingPredictionPipelineBERT%2BEngineeredFeatures.ipynb\" target=\"_parent\"><img src=\"https://colab.research.google.com/assets/colab-badge.svg\" alt=\"Open In Colab\"/></a>"
      ]
    },
    {
      "cell_type": "code",
      "source": [
        "#  Install dependencies\n",
        "!pip install transformers datasets scikit-learn joblib --quiet"
      ],
      "metadata": {
        "id": "gVKYgCGiRO2Y"
      },
      "execution_count": null,
      "outputs": []
    },
    {
      "cell_type": "code",
      "source": [
        "#  Load libraries\n",
        "import pandas as pd\n",
        "import numpy as np\n",
        "import torch\n",
        "import torch.nn as nn\n",
        "from torch.utils.data import Dataset, DataLoader\n",
        "from transformers import BertTokenizer, BertModel\n",
        "from sklearn.preprocessing import StandardScaler\n",
        "from sklearn.model_selection import train_test_split\n",
        "from sklearn.metrics import classification_report, confusion_matrix\n",
        "import matplotlib.pyplot as plt\n",
        "import seaborn as sns\n",
        "import joblib\n",
        "from tqdm import tqdm"
      ],
      "metadata": {
        "id": "K1CGHIR8RP4i"
      },
      "execution_count": null,
      "outputs": []
    },
    {
      "cell_type": "code",
      "source": [
        "#  Load dataset\n",
        "df = pd.read_parquet(\"/content/engineered_features.parquet\")\n",
        "df = df[['clean_text', 'reviews.rating',\n",
        "         'review_length', 'sentiment_polarity', 'repetition_score',\n",
        "         'semantic_mismatch_score', 'product_name_match_flag',\n",
        "         'unrelated_product_flag', 'username_dup_flag']].dropna()"
      ],
      "metadata": {
        "id": "qijKcrGvRR1y"
      },
      "execution_count": null,
      "outputs": []
    },
    {
      "cell_type": "code",
      "source": [
        "#  Prepare target\n",
        "df['label'] = df['reviews.rating'].astype(int) - 1  # 0–4"
      ],
      "metadata": {
        "id": "0tybCC_BRUGc"
      },
      "execution_count": null,
      "outputs": []
    },
    {
      "cell_type": "code",
      "source": [
        "#  Normalize structured features\n",
        "structured_cols = [\n",
        "    'review_length', 'sentiment_polarity', 'repetition_score',\n",
        "    'semantic_mismatch_score', 'product_name_match_flag',\n",
        "    'unrelated_product_flag', 'username_dup_flag'\n",
        "]\n",
        "scaler = StandardScaler()\n",
        "df[structured_cols] = scaler.fit_transform(df[structured_cols])"
      ],
      "metadata": {
        "id": "XiB5fgERRWD7"
      },
      "execution_count": null,
      "outputs": []
    },
    {
      "cell_type": "code",
      "execution_count": null,
      "metadata": {
        "colab": {
          "base_uri": "https://localhost:8080/",
          "height": 368,
          "referenced_widgets": [
            "ff7d39b3493144fbbae1b1b8430a896c",
            "44d195b42bf740cd83f2d2058c5fe9a5",
            "779aae8204d042959559dc66d477984f",
            "b5f48a25f4d04348a7c8ed0691abc9f7",
            "b67e34ea9efe4fa39b891d2d226bda1e",
            "620e5f7f63b84e2b97979c8f7ea857f1",
            "d3db7f1fa35a4b648a91650c6767c84a",
            "9fc254f982584697a3c3cbc9629ae8e4",
            "4ae1c71fdb75450b995e537d4973dcef",
            "b5d56f03c0024e26b22810c4ba256b34",
            "c06c66f8da574beeb43b2dd225b79a46",
            "9f5c4fcab2fd4098952edbd89b22b1a4",
            "3cff51027e2b4e7fb9f57cd1a0fcd2de",
            "50f813c1b1d84e0a92ef1c3cc2de6e49",
            "c191e3561a8540a2a608bbe7be3b81d0",
            "9eb35f64d7cc46569e6fe06bd5fd9ef7",
            "00fd1934e75943dea23c59ebf0ba9022",
            "8f10d64038fa4fadbed37966e7360fb6",
            "c521ee054c88474b9047840daf0d9f0a",
            "550a883b8faa4a65af32bb5a0989ee5f",
            "44bdad0e7f234179a9740ab8caba2715",
            "bdc93ab649574bd7b1c070065ba3d89e",
            "5f28ad9f9aca4839bf08cfc4e92992f1",
            "55564d80d21949f48d15bc4a2ed0ed27",
            "0bb063545e29469e9005276c0fbeec9c",
            "d47611320d9e40f98b09f996c3b5bf8b",
            "8f9e14cb15904c66bfd616fb22a28112",
            "9715030d7b984ceebf1773094efe0566",
            "c1c12b32a17e44e7909a86c0a38544c9",
            "ac7d91530cf04ce08205a16793f2b484",
            "16cc1eb1c79f463a8096571ae01ef4da",
            "bf740eea3a544083b8d8159aa5e27316",
            "b9909c48db174a53b75f0518d226010a",
            "dd8469a0604d4df28388d4c8ea9c79db",
            "e7d690da9dfa42c5b881a43c86ae66a2",
            "f21ebb2753844ea69497de10b76d6ceb",
            "a26f8e53fb024ffc8cbdbd28fda75f74",
            "ea57fbe71ed24d27ab757beb94cd7b99",
            "bfaf8c80407c48c0b30d56d3ca97db18",
            "b647582ffe2a4cd693e96bb1025f1102",
            "d63944d789a34107b9d1a20e5cb4a758",
            "bbe920594ed348c8b164644edd59fb4f",
            "6d5d6848950246e4a8e90407f71cbc8a",
            "e9cc6683af0040838c1889148a00d0d4",
            "5616a092fd3849e39903876c6cc5115b",
            "917d47d5de0a4c27b6bb95a95b1c267d",
            "4c4eda6870eb4c68ab4e77aa3ea1ceb4",
            "9e0d7e71f37a4a1c831e1340f918b5c5",
            "2508c891727d4d998bda7199316cc14f",
            "2d74eadc61984b40ac26530d06799a64",
            "e243aa3a3b964ee0bf9cdb14ed6570df",
            "3016b0ce47f748b48bbb9cda8988287d",
            "4b0dce463614418caaa32562f1044fef",
            "2525eda48ac24c3ea6cd05d1405d3fac",
            "689a58565c5f42c3a904cdb2419d14fd"
          ]
        },
        "id": "1nXQ9dIKRAS-",
        "outputId": "5a30ecd7-a1dc-4502-aec9-70bb6cb10170"
      },
      "outputs": [
        {
          "output_type": "stream",
          "name": "stderr",
          "text": [
            "/usr/local/lib/python3.12/dist-packages/huggingface_hub/utils/_auth.py:94: UserWarning: \n",
            "The secret `HF_TOKEN` does not exist in your Colab secrets.\n",
            "To authenticate with the Hugging Face Hub, create a token in your settings tab (https://huggingface.co/settings/tokens), set it as secret in your Google Colab and restart your session.\n",
            "You will be able to reuse this secret in all of your notebooks.\n",
            "Please note that authentication is recommended but still optional to access public models or datasets.\n",
            "  warnings.warn(\n"
          ]
        },
        {
          "output_type": "display_data",
          "data": {
            "text/plain": [
              "tokenizer_config.json:   0%|          | 0.00/48.0 [00:00<?, ?B/s]"
            ],
            "application/vnd.jupyter.widget-view+json": {
              "version_major": 2,
              "version_minor": 0,
              "model_id": "ff7d39b3493144fbbae1b1b8430a896c"
            }
          },
          "metadata": {}
        },
        {
          "output_type": "display_data",
          "data": {
            "text/plain": [
              "vocab.txt:   0%|          | 0.00/232k [00:00<?, ?B/s]"
            ],
            "application/vnd.jupyter.widget-view+json": {
              "version_major": 2,
              "version_minor": 0,
              "model_id": "9f5c4fcab2fd4098952edbd89b22b1a4"
            }
          },
          "metadata": {}
        },
        {
          "output_type": "display_data",
          "data": {
            "text/plain": [
              "tokenizer.json:   0%|          | 0.00/466k [00:00<?, ?B/s]"
            ],
            "application/vnd.jupyter.widget-view+json": {
              "version_major": 2,
              "version_minor": 0,
              "model_id": "5f28ad9f9aca4839bf08cfc4e92992f1"
            }
          },
          "metadata": {}
        },
        {
          "output_type": "display_data",
          "data": {
            "text/plain": [
              "config.json:   0%|          | 0.00/570 [00:00<?, ?B/s]"
            ],
            "application/vnd.jupyter.widget-view+json": {
              "version_major": 2,
              "version_minor": 0,
              "model_id": "dd8469a0604d4df28388d4c8ea9c79db"
            }
          },
          "metadata": {}
        },
        {
          "output_type": "display_data",
          "data": {
            "text/plain": [
              "model.safetensors:   0%|          | 0.00/440M [00:00<?, ?B/s]"
            ],
            "application/vnd.jupyter.widget-view+json": {
              "version_major": 2,
              "version_minor": 0,
              "model_id": "5616a092fd3849e39903876c6cc5115b"
            }
          },
          "metadata": {}
        },
        {
          "output_type": "stream",
          "name": "stderr",
          "text": [
            "Epoch 0: 100%|██████████| 474/474 [02:54<00:00,  2.72it/s, loss=1]\n",
            "Epoch 1: 100%|██████████| 474/474 [02:48<00:00,  2.81it/s, loss=1.05]\n",
            "Epoch 2: 100%|██████████| 474/474 [02:48<00:00,  2.82it/s, loss=0.552]\n",
            "Epoch 3: 100%|██████████| 474/474 [02:48<00:00,  2.82it/s, loss=0.596]\n",
            "Epoch 4: 100%|██████████| 474/474 [02:47<00:00,  2.82it/s, loss=0.222]\n"
          ]
        }
      ],
      "source": [
        "#  Tokenizer\n",
        "tokenizer = BertTokenizer.from_pretrained('bert-base-uncased')\n",
        "\n",
        "#  Custom Dataset\n",
        "class HybridReviewDataset(Dataset):\n",
        "    def __init__(self, df):\n",
        "        self.texts = df['clean_text'].tolist()\n",
        "        self.features = df[structured_cols].values\n",
        "        self.labels = df['label'].values\n",
        "\n",
        "    def __len__(self):\n",
        "        return len(self.texts)\n",
        "\n",
        "    def __getitem__(self, idx):\n",
        "        encoding = tokenizer(self.texts[idx], truncation=True, padding='max_length', max_length=128, return_tensors='pt')\n",
        "        item = {key: val.squeeze(0) for key, val in encoding.items()}\n",
        "        item['features'] = torch.tensor(self.features[idx], dtype=torch.float)\n",
        "        item['label'] = torch.tensor(self.labels[idx], dtype=torch.long)\n",
        "        return item\n",
        "\n",
        "#  Split data\n",
        "train_df, test_df = train_test_split(df, test_size=0.2, random_state=42, stratify=df['label'])\n",
        "train_dataset = HybridReviewDataset(train_df)\n",
        "test_dataset = HybridReviewDataset(test_df)\n",
        "\n",
        "train_loader = DataLoader(train_dataset, batch_size=16, shuffle=True)\n",
        "test_loader = DataLoader(test_dataset, batch_size=16)\n",
        "\n",
        "#  Hybrid Model\n",
        "class HybridBERTClassifier(nn.Module):\n",
        "    def __init__(self, num_structured_features, num_classes):\n",
        "        super().__init__()\n",
        "        self.bert = BertModel.from_pretrained('bert-base-uncased')\n",
        "        self.dropout = nn.Dropout(0.3)\n",
        "        self.fc1 = nn.Linear(768 + num_structured_features, 256)\n",
        "        self.relu = nn.ReLU()\n",
        "        self.fc2 = nn.Linear(256, num_classes)\n",
        "\n",
        "    def forward(self, input_ids, attention_mask, features):\n",
        "        outputs = self.bert(input_ids=input_ids, attention_mask=attention_mask)\n",
        "        pooled = outputs.pooler_output  # [batch_size, 768]\n",
        "        combined = torch.cat((pooled, features), dim=1)\n",
        "        x = self.dropout(combined)\n",
        "        x = self.relu(self.fc1(x))\n",
        "        return self.fc2(x)\n",
        "\n",
        "#  Setup\n",
        "device = torch.device(\"cuda\" if torch.cuda.is_available() else \"cpu\")\n",
        "model = HybridBERTClassifier(num_structured_features=len(structured_cols), num_classes=5)\n",
        "model.to(device)\n",
        "\n",
        "optimizer = torch.optim.AdamW(model.parameters(), lr=2e-5)\n",
        "loss_fn = nn.CrossEntropyLoss()\n",
        "\n",
        "#  Training loop\n",
        "num_epochs = 5\n",
        "for epoch in range(num_epochs):\n",
        "    model.train()\n",
        "    loop = tqdm(train_loader, leave=True)\n",
        "    for batch in loop:\n",
        "        input_ids = batch['input_ids'].to(device)\n",
        "        attention_mask = batch['attention_mask'].to(device)\n",
        "        features = batch['features'].to(device)\n",
        "        labels = batch['label'].to(device)\n",
        "\n",
        "        outputs = model(input_ids, attention_mask, features)\n",
        "        loss = loss_fn(outputs, labels)\n",
        "\n",
        "        loss.backward()\n",
        "        torch.nn.utils.clip_grad_norm_(model.parameters(), max_norm=1.0)\n",
        "        optimizer.step()\n",
        "        optimizer.zero_grad()\n",
        "\n",
        "        loop.set_description(f\"Epoch {epoch}\")\n",
        "        loop.set_postfix(loss=loss.item())"
      ]
    },
    {
      "cell_type": "code",
      "source": [
        "#  Evaluation\n",
        "model.eval()\n",
        "all_preds, all_labels = [], []\n",
        "with torch.no_grad():\n",
        "    for batch in test_loader:\n",
        "        input_ids = batch['input_ids'].to(device)\n",
        "        attention_mask = batch['attention_mask'].to(device)\n",
        "        features = batch['features'].to(device)\n",
        "        labels = batch['label'].to(device)\n",
        "\n",
        "        outputs = model(input_ids, attention_mask, features)\n",
        "        preds = torch.argmax(outputs, dim=1)\n",
        "\n",
        "        all_preds.extend(preds.cpu().numpy())\n",
        "        all_labels.extend(labels.cpu().numpy())"
      ],
      "metadata": {
        "id": "xuDJUN5dRjpl"
      },
      "execution_count": null,
      "outputs": []
    },
    {
      "cell_type": "code",
      "source": [
        "#  Metrics\n",
        "print(classification_report(all_labels, all_preds, digits=4))\n",
        "cm = confusion_matrix(all_labels, all_preds)\n",
        "sns.heatmap(cm, annot=True, fmt='d', cmap='Blues')\n",
        "plt.xlabel(\"Predicted\")\n",
        "plt.ylabel(\"True\")\n",
        "plt.title(\"Confusion Matrix (Hybrid Model)\")\n",
        "plt.tight_layout()\n",
        "plt.show()"
      ],
      "metadata": {
        "colab": {
          "base_uri": "https://localhost:8080/",
          "height": 695
        },
        "id": "ry3JrvOHRmrT",
        "outputId": "8669c55e-8d84-4843-bc20-8d9566e3b41b"
      },
      "execution_count": null,
      "outputs": [
        {
          "output_type": "stream",
          "name": "stdout",
          "text": [
            "              precision    recall  f1-score   support\n",
            "\n",
            "           0     0.5000    0.3778    0.4304        45\n",
            "           1     0.0000    0.0000    0.0000        26\n",
            "           2     0.2381    0.2353    0.2367        85\n",
            "           3     0.4071    0.4259    0.4163       540\n",
            "           4     0.7343    0.7417    0.7380      1200\n",
            "\n",
            "    accuracy                         0.6102      1896\n",
            "   macro avg     0.3759    0.3561    0.3643      1896\n",
            "weighted avg     0.6032    0.6102    0.6065      1896\n",
            "\n"
          ]
        },
        {
          "output_type": "display_data",
          "data": {
            "text/plain": [
              "<Figure size 640x480 with 2 Axes>"
            ],
            "image/png": "[encoded data removed]"
          },
          "metadata": {}
        }
      ]
    },
    {
      "cell_type": "code",
      "source": [
        "#  Save model weights\n",
        "torch.save(model.state_dict(), \"hybrid_rating_model.pt\")\n",
        "\n",
        "#  Save tokenizer (still BERT-based)\n",
        "tokenizer.save_pretrained(\"hybrid_rating_model\")\n",
        "\n",
        "#  Save scaler for structured features\n",
        "joblib.dump(scaler, \"structured_feature_scaler.pkl\")\n",
        "\n",
        "from sklearn.metrics import classification_report, confusion_matrix\n",
        "\n",
        "# Recompute metrics\n",
        "report = classification_report(all_labels, all_preds, output_dict=True, digits=4)\n",
        "cm = confusion_matrix(all_labels, all_preds)\n",
        "\n",
        "#  Save evaluation metrics (if you already computed them)\n",
        "joblib.dump({\n",
        "    \"classification_report\": report,\n",
        "    \"confusion_matrix\": cm.tolist()\n",
        "}, \"hybrid_rating_metrics.pkl\")"
      ],
      "metadata": {
        "colab": {
          "base_uri": "https://localhost:8080/"
        },
        "id": "tN7OTD90RpFQ",
        "outputId": "745241d6-24c1-4377-e3d5-a832f8b2a45a"
      },
      "execution_count": null,
      "outputs": [
        {
          "output_type": "execute_result",
          "data": {
            "text/plain": [
              "['hybrid_rating_metrics.pkl']"
            ]
          },
          "metadata": {},
          "execution_count": 14
        }
      ]
    }
  ]
}