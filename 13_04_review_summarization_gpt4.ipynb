{
  "nbformat": 4,
  "nbformat_minor": 0,
  "metadata": {
    "colab": {
      "provenance": [],
      "authorship_tag": "ABX9TyPP+gvmxXtFacdfn/3ix/Z6",
      "include_colab_link": true
    },
    "kernelspec": {
      "name": "python3",
      "display_name": "Python 3"
    },
    "language_info": {
      "name": "python"
    }
  },
  "cells": [
    {
      "cell_type": "markdown",
      "metadata": {
        "id": "view-in-github",
        "colab_type": "text"
      },
      "source": [
        "<a href=\"https://colab.research.google.com/github/cwattsnogueira/rating-predictor-spam-detection-review-summarizer/blob/main/13_04_review_summarization_gpt4.ipynb\" target=\"_parent\"><img src=\"https://colab.research.google.com/assets/colab-badge.svg\" alt=\"Open In Colab\"/></a>"
      ]
    },
    {
      "cell_type": "code",
      "execution_count": 1,
      "metadata": {
        "id": "P5eFat1WHQHY"
      },
      "outputs": [],
      "source": [
        "!pip install openai gradio pandas --quiet"
      ]
    },
    {
      "cell_type": "code",
      "source": [
        "import pandas as pd\n",
        "import openai\n",
        "import gradio as gr\n",
        "from google.colab import userdata"
      ],
      "metadata": {
        "id": "dEpPTVqtJjOW"
      },
      "execution_count": 2,
      "outputs": []
    },
    {
      "cell_type": "code",
      "source": [
        "openai.api_key = userdata.get(\"OPENAI_API_KEY\")"
      ],
      "metadata": {
        "id": "7w02WrHYJnms"
      },
      "execution_count": 3,
      "outputs": []
    },
    {
      "cell_type": "code",
      "source": [
        "def clean_reviews(text_list):\n",
        "    return [str(t).strip().replace(\"\\n\", \" \") for t in text_list if isinstance(t, str) and len(t.strip()) > 0]\n",
        "\n",
        "def summarize_with_gpt4(product_name, reviews):\n",
        "    try:\n",
        "        cleaned = clean_reviews(reviews)\n",
        "        prompt = f\"Summarize the following customer reviews for the product '{product_name}' in 3 sentences:\\n\" + \" \".join(cleaned)\n",
        "        response = openai.chat.completions.create(\n",
        "            model=\"gpt-4\",\n",
        "            messages=[{\"role\": \"user\", \"content\": prompt}],\n",
        "            temperature=0.7\n",
        "        )\n",
        "        summary = response.choices[0].message.content\n",
        "        return f\"**Product:** {product_name}\\n\\n**Summary:**\\n{summary}\"\n",
        "    except Exception as e:\n",
        "        return f\"Error during summary generation: {str(e)}\""
      ],
      "metadata": {
        "id": "kODUQNp2JoIM"
      },
      "execution_count": 4,
      "outputs": []
    },
    {
      "cell_type": "code",
      "source": [
        "def summarize_from_csv(product_name, file, column_name=\"review_text\"):\n",
        "    try:\n",
        "        df = pd.read_csv(file.name)\n",
        "        if column_name not in df.columns:\n",
        "            return f\"Column '{column_name}' not found in uploaded CSV.\"\n",
        "        reviews = df[column_name].tolist()\n",
        "        return summarize_with_gpt4(product_name, reviews)\n",
        "    except Exception as e:\n",
        "        return f\"Error processing CSV: {str(e)}\""
      ],
      "metadata": {
        "id": "O-oY8c-JbSwW"
      },
      "execution_count": 5,
      "outputs": []
    },
    {
      "cell_type": "code",
      "source": [
        "with gr.Blocks() as demo:\n",
        "    gr.Markdown(\"##  Review Summarization App (GPT-4)\")\n",
        "    gr.Markdown(\"Upload a CSV or paste reviews manually. Include the product name to personalize the summary.\")\n",
        "\n",
        "    with gr.Tab(\"Manual Input\"):\n",
        "        product_name_manual = gr.Textbox(label=\"Product Name\", placeholder=\"e.g., Wireless Headset\")\n",
        "        manual_input = gr.Textbox(lines=12, placeholder=\"Paste multiple reviews here...\")\n",
        "        manual_button = gr.Button(\"Summarize\")\n",
        "        manual_output = gr.Textbox(label=\"Summary\", lines=12, max_lines=20)\n",
        "\n",
        "    with gr.Tab(\"CSV Upload\"):\n",
        "        product_name_csv = gr.Textbox(label=\"Product Name\", placeholder=\"e.g., Wireless Headset\")\n",
        "        csv_input = gr.File(label=\"Upload CSV\")\n",
        "        column_name = gr.Textbox(value=\"review_text\", label=\"Column name with reviews\")\n",
        "        csv_button = gr.Button(\"Summarize CSV\")\n",
        "        csv_output = gr.Textbox(label=\"Summary\", lines=12, max_lines=20)\n",
        "\n",
        "    manual_button.click(\n",
        "        lambda name, text: summarize_with_gpt4(name, text.split(\"\\n\")),\n",
        "        inputs=[product_name_manual, manual_input],\n",
        "        outputs=manual_output\n",
        "    )\n",
        "\n",
        "    csv_button.click(\n",
        "        summarize_from_csv,\n",
        "        inputs=[product_name_csv, csv_input, column_name],\n",
        "        outputs=csv_output\n",
        "    )\n",
        "\n",
        "demo.launch()"
      ],
      "metadata": {
        "id": "3O2kABrsJphT",
        "colab": {
          "base_uri": "https://localhost:8080/",
          "height": 626
        },
        "outputId": "93b7432f-ead2-4e7a-9ad1-21752e98f25f"
      },
      "execution_count": 6,
      "outputs": [
        {
          "output_type": "stream",
          "name": "stdout",
          "text": [
            "It looks like you are running Gradio on a hosted Jupyter notebook, which requires `share=True`. Automatically setting `share=True` (you can turn this off by setting `share=False` in `launch()` explicitly).\n",
            "\n",
            "Colab notebook detected. To show errors in colab notebook, set debug=True in launch()\n",
            "* Running on public URL: https://3b4203bca8fbe64356.gradio.live\n",
            "\n",
            "This share link expires in 1 week. For free permanent hosting and GPU upgrades, run `gradio deploy` from the terminal in the working directory to deploy to Hugging Face Spaces (https://huggingface.co/spaces)\n"
          ]
        },
        {
          "output_type": "display_data",
          "data": {
            "text/plain": [
              "<IPython.core.display.HTML object>"
            ],
            "text/html": [
              "<div><iframe src=\"https://3b4203bca8fbe64356.gradio.live\" width=\"100%\" height=\"500\" allow=\"autoplay; camera; microphone; clipboard-read; clipboard-write;\" frameborder=\"0\" allowfullscreen></iframe></div>"
            ]
          },
          "metadata": {}
        },
        {
          "output_type": "execute_result",
          "data": {
            "text/plain": []
          },
          "metadata": {},
          "execution_count": 6
        }
      ]
    }
  ]
}