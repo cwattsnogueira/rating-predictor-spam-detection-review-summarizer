{
  "nbformat": 4,
  "nbformat_minor": 0,
  "metadata": {
    "colab": {
      "provenance": [],
      "authorship_tag": "ABX9TyOI/Yw6dgtZu/W8k6WgsIJw",
      "include_colab_link": true
    },
    "kernelspec": {
      "name": "python3",
      "display_name": "Python 3"
    },
    "language_info": {
      "name": "python"
    }
  },
  "cells": [
    {
      "cell_type": "markdown",
      "metadata": {
        "id": "view-in-github",
        "colab_type": "text"
      },
      "source": [
        "<a href=\"https://colab.research.google.com/github/cwattsnogueira/rating-predictor-spam-detection-review-summarizer/blob/main/05_feature_engineering.ipynb\" target=\"_parent\"><img src=\"https://colab.research.google.com/assets/colab-badge.svg\" alt=\"Open In Colab\"/></a>"
      ]
    },
    {
      "cell_type": "markdown",
      "source": [
        "# Feature Engineering for Fake Review Detection\n",
        "\n",
        "This notebook creates structured features from review metadata and cleaned text. I generate a binary target (`fake_review_label`) and prepare all inputs for ML and DL models."
      ],
      "metadata": {
        "id": "fvQpn5GyK0fz"
      }
    },
    {
      "cell_type": "code",
      "execution_count": null,
      "metadata": {
        "id": "lT4iW2p0Klcb"
      },
      "outputs": [],
      "source": [
        "import pandas as pd\n",
        "import numpy as np\n",
        "import joblib\n",
        "from textblob import TextBlob\n",
        "from sklearn.preprocessing import LabelEncoder"
      ]
    },
    {
      "cell_type": "code",
      "source": [
        "df = pd.read_parquet(\"/content/cleaned_reviews_with_text.parquet\")\n",
        "X_tfidf = joblib.load(\"/content/X_count_vectorized.pkl\")\n",
        "print(\"Data loaded:\", df.shape)"
      ],
      "metadata": {
        "colab": {
          "base_uri": "https://localhost:8080/"
        },
        "id": "VV9P5I65LVvX",
        "outputId": "9a9d5e38-b687-4b22-9ef0-9da313488e08"
      },
      "execution_count": null,
      "outputs": [
        {
          "output_type": "stream",
          "name": "stdout",
          "text": [
            "Data loaded: (9480, 33)\n"
          ]
        }
      ]
    },
    {
      "cell_type": "code",
      "source": [
        "df.columns"
      ],
      "metadata": {
        "colab": {
          "base_uri": "https://localhost:8080/"
        },
        "id": "88DV_toRvzFZ",
        "outputId": "294bba96-6624-4d37-ffd5-8ccb4a568eca"
      },
      "execution_count": null,
      "outputs": [
        {
          "output_type": "execute_result",
          "data": {
            "text/plain": [
              "Index(['id', 'brand', 'categories', 'dateAdded', 'dateUpdated', 'keys',\n",
              "       'manufacturer', 'manufacturerNumber', 'name', 'reviews.date',\n",
              "       'reviews.dateAdded', 'reviews.dateSeen', 'reviews.numHelpful',\n",
              "       'reviews.rating', 'reviews.sourceURLs', 'reviews.text', 'reviews.title',\n",
              "       'reviews.username', 'upc', 'purchase_missing_flag', 'purchase_status',\n",
              "       'purchase_encoded', 'recommend_missing_flag', 'recommend_status',\n",
              "       'recommend_encoded', 'helpful_missing_flag', 'no_helpful_votes_flag',\n",
              "       'log_helpful', 'main_category', 'category_group', 'clean_text',\n",
              "       'text_length', 'is_short'],\n",
              "      dtype='object')"
            ]
          },
          "metadata": {},
          "execution_count": 5
        }
      ]
    },
    {
      "cell_type": "code",
      "source": [],
      "metadata": {
        "id": "s8tSbPUCmMQk"
      },
      "execution_count": null,
      "outputs": []
    },
    {
      "cell_type": "markdown",
      "source": [
        "## Sentiment Polarity"
      ],
      "metadata": {
        "id": "jaHuFp1LQN6I"
      }
    },
    {
      "cell_type": "code",
      "source": [
        "def get_sentiment(text):\n",
        "    return TextBlob(text).sentiment.polarity\n",
        "\n",
        "df['sentiment_polarity'] = df['clean_text'].apply(get_sentiment)"
      ],
      "metadata": {
        "id": "NvEdz-FTLiTl"
      },
      "execution_count": null,
      "outputs": []
    },
    {
      "cell_type": "code",
      "source": [
        "def polarity_bucket(score):\n",
        "    if score > 0.3:\n",
        "        return 'positive'\n",
        "    elif score < -0.3:\n",
        "        return 'negative'\n",
        "    else:\n",
        "        return 'neutral'\n",
        "\n",
        "df['sentiment_category'] = df['sentiment_polarity'].apply(polarity_bucket)"
      ],
      "metadata": {
        "id": "vixo5ZN5fVV3"
      },
      "execution_count": null,
      "outputs": []
    },
    {
      "cell_type": "markdown",
      "source": [
        "## Review Length\n"
      ],
      "metadata": {
        "id": "6JSr-BJ0QT1q"
      }
    },
    {
      "cell_type": "code",
      "source": [
        "df['review_length'] = df['clean_text'].str.split().apply(len)"
      ],
      "metadata": {
        "id": "DIsQktJyLlww"
      },
      "execution_count": null,
      "outputs": []
    },
    {
      "cell_type": "markdown",
      "source": [
        "## Username Duplication Flag"
      ],
      "metadata": {
        "id": "_Ysf5GTvQYKp"
      }
    },
    {
      "cell_type": "code",
      "source": [
        "# Count how many times each username appears\n",
        "username_counts = df['reviews.username'].value_counts()\n",
        "\n",
        "# Filter only usernames that appear more than once\n",
        "duplicate_usernames = username_counts[username_counts > 1]\n",
        "\n",
        "# Display result\n",
        "print(f\"Found {len(duplicate_usernames)} usernames with multiple reviews.\")\n",
        "display(duplicate_usernames.head(10))  # Show top 10"
      ],
      "metadata": {
        "id": "yhEtlr-VOJ7L"
      },
      "execution_count": null,
      "outputs": []
    },
    {
      "cell_type": "code",
      "source": [
        "df['username_dup_flag'] = df['reviews.username'].isin(duplicate_usernames.index).astype(int)"
      ],
      "metadata": {
        "id": "j0M15nmYLouS"
      },
      "execution_count": null,
      "outputs": []
    },
    {
      "cell_type": "code",
      "source": [
        "# Flag: Same user, same date, same title\n",
        "df['multi_review_same_day_flag'] = df.duplicated(subset=['reviews.username', 'reviews.date', 'reviews.title'], keep=False).astype(int)\n",
        "\n",
        "# Flag: Same user reviewing same product multiple times\n",
        "df['multi_review_same_product_flag'] = df.duplicated(subset=['upc', 'reviews.username'], keep=False).astype(int)"
      ],
      "metadata": {
        "id": "Ppv19hbU-8G1"
      },
      "execution_count": null,
      "outputs": []
    },
    {
      "cell_type": "markdown",
      "source": [
        "## Encode Categorical Features"
      ],
      "metadata": {
        "id": "Fcb3xZbeP9rH"
      }
    },
    {
      "cell_type": "code",
      "source": [
        "le_brand = LabelEncoder()\n",
        "df['brand_encoded'] = le_brand.fit_transform(df['brand'])"
      ],
      "metadata": {
        "id": "ctGA7evhLtO_"
      },
      "execution_count": null,
      "outputs": []
    },
    {
      "cell_type": "code",
      "source": [
        "le_category_group = LabelEncoder()\n",
        "df['category_group_encoded'] = le_category_group.fit_transform(df['category_group'])"
      ],
      "metadata": {
        "id": "-p40u0v4OVg1"
      },
      "execution_count": null,
      "outputs": []
    },
    {
      "cell_type": "markdown",
      "source": [
        "## check if the review text matches the product name"
      ],
      "metadata": {
        "id": "YoD_Yblgf5yk"
      }
    },
    {
      "cell_type": "code",
      "source": [
        "import re\n",
        "\n",
        "# Improved product name match: token overlap\n",
        "def product_name_in_text(row):\n",
        "    if pd.isna(row['clean_text']) or pd.isna(row['name']):\n",
        "        return 0\n",
        "    name_tokens = set(re.findall(r'\\w+', row['name'].lower()))\n",
        "    text_tokens = set(re.findall(r'\\w+', row['clean_text'].lower()))\n",
        "    return int(len(name_tokens.intersection(text_tokens)) > 0)\n",
        "\n",
        "df['product_name_match_flag'] = df.apply(product_name_in_text, axis=1)"
      ],
      "metadata": {
        "id": "5BVxZucuz8W7"
      },
      "execution_count": null,
      "outputs": []
    },
    {
      "cell_type": "code",
      "source": [
        "# Expanded keyword map for unrelated product detection\n",
        "category_keywords = {\n",
        "    'skincare': ['cream', 'moisturizer', 'moisturizers', 'soap', 'lotion', 'cleanser', 'cleansers'],\n",
        "    'haircare': ['shampoo', 'conditioner', 'conditioners', 'hair'],\n",
        "    'makeup': ['lipstick', 'foundation', 'concealer', 'bronzer', 'makeup'],\n",
        "    'fragrance': ['perfume', 'scent', 'aroma', 'fragrance'],\n",
        "    'bodycare': ['body wash', 'gel', 'lubricant', 'lotions'],\n",
        "    'food': ['taste', 'sauce', 'cake', 'pizza', 'ketchup', 'flavor'],\n",
        "    'household': ['detergent', 'cleaner', 'glass', 'soap', 'spray'],\n",
        "    'home': ['lamp', 'bed', 'furniture', 'shelf', 'blanket'],\n",
        "    'entertainment': ['movie', 'dvd', 'blu-ray', 'series', 'album'],\n",
        "    'other': []\n",
        "}"
      ],
      "metadata": {
        "id": "xdfg0cVgf5el"
      },
      "execution_count": null,
      "outputs": []
    },
    {
      "cell_type": "code",
      "source": [
        "# Flag if unrelated keywords appear in the review\n",
        "def unrelated_product_flag(row):\n",
        "    text = row['clean_text'].lower() if pd.notna(row['clean_text']) else ''\n",
        "    category = row['category_group']\n",
        "    expected_keywords = category_keywords.get(category, [])\n",
        "\n",
        "    for other_cat, keywords in category_keywords.items():\n",
        "        if other_cat != category:\n",
        "            for word in keywords:\n",
        "                if word in text:\n",
        "                    return 1\n",
        "    return 0\n",
        "\n",
        "df['unrelated_product_flag'] = df.apply(unrelated_product_flag, axis=1)"
      ],
      "metadata": {
        "id": "jSjlX3NXf5K6"
      },
      "execution_count": null,
      "outputs": []
    },
    {
      "cell_type": "code",
      "source": [
        "# semantic mismatch score\n",
        "df['semantic_mismatch_score'] = (\n",
        "    (df['product_name_match_flag'] == 0).astype(int) +\n",
        "    df['unrelated_product_flag']\n",
        ")"
      ],
      "metadata": {
        "id": "Z4ZKkESoxByh"
      },
      "execution_count": null,
      "outputs": []
    },
    {
      "cell_type": "code",
      "source": [
        "def repetition_score(text):\n",
        "    tokens = text.lower().split()\n",
        "    return max(pd.Series(tokens).value_counts(normalize=True).values) if tokens else 0\n",
        "\n",
        "df['repetition_score'] = df['clean_text'].apply(repetition_score)"
      ],
      "metadata": {
        "id": "YDtKn-14EjQl"
      },
      "execution_count": null,
      "outputs": []
    },
    {
      "cell_type": "markdown",
      "source": [
        "## Create Target: Fake Review Label"
      ],
      "metadata": {
        "id": "RaRf-m5HQG66"
      }
    },
    {
      "cell_type": "code",
      "source": [
        "def generate_fake_review_label(row):\n",
        "    short_extreme = (row['review_length'] < 5) and (abs(row['sentiment_polarity']) > 0.9)\n",
        "    mismatch = row['semantic_mismatch_score'] > 0 and row['username_dup_flag'] == 1\n",
        "    repetitive = row['repetition_score'] > 0.5\n",
        "    return int(short_extreme or mismatch or repetitive)\n",
        "\n",
        "df['fake_review_label'] = df.apply(generate_fake_review_label, axis=1)"
      ],
      "metadata": {
        "id": "PXrQOEeOEsyq"
      },
      "execution_count": null,
      "outputs": []
    },
    {
      "cell_type": "markdown",
      "source": [
        "## Select Structured Features"
      ],
      "metadata": {
        "id": "MJ7w3gOWQqfb"
      }
    },
    {
      "cell_type": "code",
      "source": [
        "structured_features = [\n",
        "    # Textual and behavioral\n",
        "    'review_length', 'sentiment_polarity', 'repetition_score',\n",
        "\n",
        "    # Engagement and helpfulness\n",
        "    'log_helpful', 'no_helpful_votes_flag', 'helpful_missing_flag',\n",
        "\n",
        "    # Purchase and recommendation signals\n",
        "    'purchase_encoded', 'recommend_encoded',\n",
        "    'purchase_missing_flag', 'recommend_missing_flag',\n",
        "\n",
        "    # Metadata and semantic alignment\n",
        "    'username_dup_flag', 'multi_review_same_day_flag', 'multi_review_same_product_flag',\n",
        "    'product_name_match_flag',\n",
        "    'unrelated_product_flag', 'semantic_mismatch_score',\n",
        "\n",
        "    # Categorical encodings\n",
        "    'brand_encoded', 'category_group_encoded'\n",
        "]\n",
        "\n",
        "X_structured = df[structured_features].values\n",
        "y = df['fake_review_label'].values"
      ],
      "metadata": {
        "id": "1kF5pQFRL1bw"
      },
      "execution_count": null,
      "outputs": []
    },
    {
      "cell_type": "code",
      "source": [
        "print(\"\\nFake review label distribution:\")\n",
        "print(df['fake_review_label'].value_counts())"
      ],
      "metadata": {
        "id": "ZlmM-QpQubOX"
      },
      "execution_count": null,
      "outputs": []
    },
    {
      "cell_type": "code",
      "source": [
        "import seaborn as sns\n",
        "import matplotlib.pyplot as plt\n",
        "\n",
        "#\n",
        "label_map = {0: 'Genuine Review', 1: 'Fake Review'}\n",
        "df['label_text'] = df['fake_review_label'].map(label_map)\n",
        "\n",
        "plt.figure(figsize=(8, 5))\n",
        "ax = sns.countplot(x='label_text', data=df, hue='label_text', palette='Set2', legend=False)\n",
        "plt.title(\"Fake vs Genuine Review Distribution\", fontsize=14)\n",
        "plt.xlabel(\"Review Type\")\n",
        "plt.ylabel(\"Number of Reviews\")\n",
        "\n",
        "#\n",
        "for p in ax.patches:\n",
        "    count = int(p.get_height())\n",
        "    ax.annotate(f'{count}',\n",
        "                (p.get_x() + p.get_width() / 2., count),\n",
        "                ha='center', va='bottom', fontsize=12)\n",
        "\n",
        "plt.tight_layout()\n",
        "plt.show()"
      ],
      "metadata": {
        "id": "EcqL3KucvXcS"
      },
      "execution_count": null,
      "outputs": []
    },
    {
      "cell_type": "markdown",
      "source": [
        "## Save Outputs"
      ],
      "metadata": {
        "id": "1KlfwkqKQuzV"
      }
    },
    {
      "cell_type": "code",
      "source": [
        "np.save(\"/content/X_structured.npy\", X_structured)\n",
        "np.save(\"/content/y_fake_review.npy\", y)\n",
        "joblib.dump(structured_features, \"/content/feature_names.json\")\n",
        "\n",
        "df.to_parquet(\"/content/engineered_features.parquet\", index=False)\n",
        "print(\"Saved all engineered features.\")"
      ],
      "metadata": {
        "id": "U5QDqQzoL3AX"
      },
      "execution_count": null,
      "outputs": []
    },
    {
      "cell_type": "code",
      "source": [
        "joblib.dump(le_brand, \"/content/label_encoder_brand.pkl\")\n",
        "joblib.dump(le_category_group, \"/content/label_encoder_category_group.pkl\")"
      ],
      "metadata": {
        "id": "6xNotlYxuZic"
      },
      "execution_count": null,
      "outputs": []
    },
    {
      "cell_type": "code",
      "source": [
        "df[['fake_review_label']].to_parquet(\"/content/fake_review_labels.parquet\", index=True)"
      ],
      "metadata": {
        "id": "ZPssIvDGugEE"
      },
      "execution_count": null,
      "outputs": []
    },
    {
      "cell_type": "markdown",
      "source": [
        "## head(5) or unique()"
      ],
      "metadata": {
        "id": "HvLTxpNcPItR"
      }
    },
    {
      "cell_type": "code",
      "source": [
        "df[['sentiment_polarity', 'review_length', 'username_dup_flag', 'brand_encoded', 'fake_review_label']].head()"
      ],
      "metadata": {
        "id": "OpEMgekCE6Mt"
      },
      "execution_count": null,
      "outputs": []
    },
    {
      "cell_type": "code",
      "source": [
        "df['sentiment_polarity'].head(5)"
      ],
      "metadata": {
        "id": "KJiDhDsSPM79"
      },
      "execution_count": null,
      "outputs": []
    },
    {
      "cell_type": "code",
      "source": [
        "df['review_length'].head(5)"
      ],
      "metadata": {
        "id": "qam4m3AyPQE8"
      },
      "execution_count": null,
      "outputs": []
    },
    {
      "cell_type": "code",
      "source": [
        "df['username_dup_flag'].head(5)"
      ],
      "metadata": {
        "id": "Ym4b_iEmPVrA"
      },
      "execution_count": null,
      "outputs": []
    },
    {
      "cell_type": "code",
      "source": [
        "df['brand_encoded'].head(5)"
      ],
      "metadata": {
        "id": "_1s6rNPuPoBe"
      },
      "execution_count": null,
      "outputs": []
    },
    {
      "cell_type": "code",
      "source": [
        "df['fake_review_label'].head(5)"
      ],
      "metadata": {
        "id": "pMR1twV0PxMF"
      },
      "execution_count": null,
      "outputs": []
    },
    {
      "cell_type": "markdown",
      "source": [
        "## Features"
      ],
      "metadata": {
        "id": "6kwRHT7rAcTp"
      }
    },
    {
      "cell_type": "code",
      "source": [
        "feature_descriptions = {\n",
        "    'review_length': 'Number of tokens in the cleaned review text',\n",
        "    'sentiment_polarity': 'Polarity score from TextBlob (-1 to +1)',\n",
        "    'repetition_score': 'Max normalized frequency of repeated tokens',\n",
        "    'log_helpful': 'Log-transformed helpful vote count',\n",
        "    'no_helpful_votes_flag': 'Binary flag for zero helpful votes',\n",
        "    'helpful_missing_flag': 'Binary flag for missing helpful vote field',\n",
        "    'purchase_encoded': 'Ordinal encoding of purchase status',\n",
        "    'recommend_encoded': 'Ordinal encoding of recommendation status',\n",
        "    'purchase_missing_flag': 'Binary flag for missing purchase info',\n",
        "    'recommend_missing_flag': 'Binary flag for missing recommendation info',\n",
        "    'username_dup_flag': 'User appears more than once in dataset',\n",
        "    'multi_review_same_day_flag': 'Same user reviewed multiple items on same day with same title',\n",
        "    'multi_review_same_product_flag': 'Same user reviewed same product multiple times',\n",
        "    'product_name_match_flag': 'Review text overlaps with product name',\n",
        "    'unrelated_product_flag': 'Review contains keywords from unrelated categories',\n",
        "    'semantic_mismatch_score': 'Sum of product name mismatch and unrelated keyword flag',\n",
        "    'brand_encoded': 'Label-encoded brand name',\n",
        "    'category_group_encoded': 'Label-encoded product category group'\n",
        "}"
      ],
      "metadata": {
        "id": "6nrQhDeIAeJv"
      },
      "execution_count": null,
      "outputs": []
    },
    {
      "cell_type": "code",
      "source": [
        "import seaborn as sns\n",
        "corr = df[structured_features].corr()\n",
        "plt.figure(figsize=(12, 10))\n",
        "sns.heatmap(corr, annot=False, cmap='coolwarm')\n",
        "plt.title(\"Feature Correlation Matrix\")\n",
        "plt.show()"
      ],
      "metadata": {
        "id": "hebZh2tTAfvC"
      },
      "execution_count": null,
      "outputs": []
    }
  ]
}