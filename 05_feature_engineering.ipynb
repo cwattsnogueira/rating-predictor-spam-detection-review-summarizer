{
  "nbformat": 4,
  "nbformat_minor": 0,
  "metadata": {
    "colab": {
      "provenance": [],
      "authorship_tag": "ABX9TyO9aML3Jz1KdKWz4T8pDxKW",
      "include_colab_link": true
    },
    "kernelspec": {
      "name": "python3",
      "display_name": "Python 3"
    },
    "language_info": {
      "name": "python"
    }
  },
  "cells": [
    {
      "cell_type": "markdown",
      "metadata": {
        "id": "view-in-github",
        "colab_type": "text"
      },
      "source": [
        "<a href=\"https://colab.research.google.com/github/cwattsnogueira/rating-predictor-spam-detection-review-summarizer/blob/main/05_feature_engineering.ipynb\" target=\"_parent\"><img src=\"https://colab.research.google.com/assets/colab-badge.svg\" alt=\"Open In Colab\"/></a>"
      ]
    },
    {
      "cell_type": "markdown",
      "source": [
        "# Feature Engineering for Fake Review Detection\n",
        "\n",
        "This notebook creates structured features from review metadata and cleaned text. I generate a binary target (`fake_review_label`) and prepare all inputs for ML and DL models."
      ],
      "metadata": {
        "id": "fvQpn5GyK0fz"
      }
    },
    {
      "cell_type": "code",
      "execution_count": 2,
      "metadata": {
        "id": "lT4iW2p0Klcb"
      },
      "outputs": [],
      "source": [
        "import pandas as pd\n",
        "import numpy as np\n",
        "import joblib\n",
        "from textblob import TextBlob\n",
        "from sklearn.preprocessing import LabelEncoder"
      ]
    },
    {
      "cell_type": "code",
      "source": [
        "df = pd.read_parquet(\"/content/cleaned_reviews_with_text.parquet\")\n",
        "X_tfidf = joblib.load(\"/content/X_count_vectorized.pkl\")\n",
        "print(\"Data loaded:\", df.shape)"
      ],
      "metadata": {
        "colab": {
          "base_uri": "https://localhost:8080/"
        },
        "id": "VV9P5I65LVvX",
        "outputId": "7c8135dc-aceb-4d48-cb14-ce986b13f4e7"
      },
      "execution_count": 3,
      "outputs": [
        {
          "output_type": "stream",
          "name": "stdout",
          "text": [
            "Data loaded: (9480, 33)\n"
          ]
        }
      ]
    },
    {
      "cell_type": "code",
      "source": [
        "df.columns"
      ],
      "metadata": {
        "colab": {
          "base_uri": "https://localhost:8080/"
        },
        "id": "88DV_toRvzFZ",
        "outputId": "48020740-6343-4081-d1f7-c9868a653af8"
      },
      "execution_count": 4,
      "outputs": [
        {
          "output_type": "execute_result",
          "data": {
            "text/plain": [
              "Index(['id', 'brand', 'categories', 'dateAdded', 'dateUpdated', 'keys',\n",
              "       'manufacturer', 'manufacturerNumber', 'name', 'reviews.date',\n",
              "       'reviews.dateAdded', 'reviews.dateSeen', 'reviews.numHelpful',\n",
              "       'reviews.rating', 'reviews.sourceURLs', 'reviews.text', 'reviews.title',\n",
              "       'reviews.username', 'upc', 'purchase_missing_flag', 'purchase_status',\n",
              "       'purchase_encoded', 'recommend_missing_flag', 'recommend_status',\n",
              "       'recommend_encoded', 'helpful_missing_flag', 'no_helpful_votes_flag',\n",
              "       'log_helpful', 'main_category', 'category_group', 'clean_text',\n",
              "       'text_length', 'is_short'],\n",
              "      dtype='object')"
            ]
          },
          "metadata": {},
          "execution_count": 4
        }
      ]
    },
    {
      "cell_type": "markdown",
      "source": [
        "## Sentiment Polarity"
      ],
      "metadata": {
        "id": "jaHuFp1LQN6I"
      }
    },
    {
      "cell_type": "code",
      "source": [
        "def get_sentiment(text):\n",
        "    return TextBlob(text).sentiment.polarity\n",
        "\n",
        "df['sentiment_polarity'] = df['clean_text'].apply(get_sentiment)"
      ],
      "metadata": {
        "id": "NvEdz-FTLiTl"
      },
      "execution_count": 5,
      "outputs": []
    },
    {
      "cell_type": "code",
      "source": [
        "def polarity_bucket(score):\n",
        "    if score > 0.3:\n",
        "        return 'positive'\n",
        "    elif score < -0.3:\n",
        "        return 'negative'\n",
        "    else:\n",
        "        return 'neutral'\n",
        "\n",
        "df['sentiment_category'] = df['sentiment_polarity'].apply(polarity_bucket)"
      ],
      "metadata": {
        "id": "vixo5ZN5fVV3"
      },
      "execution_count": 6,
      "outputs": []
    },
    {
      "cell_type": "markdown",
      "source": [
        "## Review Length\n"
      ],
      "metadata": {
        "id": "6JSr-BJ0QT1q"
      }
    },
    {
      "cell_type": "code",
      "source": [
        "df['review_length'] = df['clean_text'].str.split().apply(len)"
      ],
      "metadata": {
        "id": "DIsQktJyLlww"
      },
      "execution_count": 7,
      "outputs": []
    },
    {
      "cell_type": "markdown",
      "source": [
        "## Username Duplication Flag"
      ],
      "metadata": {
        "id": "_Ysf5GTvQYKp"
      }
    },
    {
      "cell_type": "code",
      "source": [
        "# Count how many times each username appears\n",
        "username_counts = df['reviews.username'].value_counts()\n",
        "\n",
        "# Filter only usernames that appear more than once\n",
        "duplicate_usernames = username_counts[username_counts > 1]\n",
        "\n",
        "# Display result\n",
        "print(f\"Found {len(duplicate_usernames)} usernames with multiple reviews.\")\n",
        "display(duplicate_usernames.head(10))  # Show top 10"
      ],
      "metadata": {
        "id": "yhEtlr-VOJ7L",
        "colab": {
          "base_uri": "https://localhost:8080/",
          "height": 446
        },
        "outputId": "140f7d6f-96f6-4c37-d500-fad46151b365"
      },
      "execution_count": 8,
      "outputs": [
        {
          "output_type": "stream",
          "name": "stdout",
          "text": [
            "Found 287 usernames with multiple reviews.\n"
          ]
        },
        {
          "output_type": "display_data",
          "data": {
            "text/plain": [
              "reviews.username\n",
              "Anonymous                60\n",
              "An anonymous customer    48\n",
              "Chris                    14\n",
              "Mike                      9\n",
              "John                      7\n",
              "Cindy                     6\n",
              "Missy                     6\n",
              "Angel                     5\n",
              "Alex                      5\n",
              "Sandy                     5\n",
              "Name: count, dtype: int64"
            ],
            "text/html": [
              "<div>\n",
              "<style scoped>\n",
              "    .dataframe tbody tr th:only-of-type {\n",
              "        vertical-align: middle;\n",
              "    }\n",
              "\n",
              "    .dataframe tbody tr th {\n",
              "        vertical-align: top;\n",
              "    }\n",
              "\n",
              "    .dataframe thead th {\n",
              "        text-align: right;\n",
              "    }\n",
              "</style>\n",
              "<table border=\"1\" class=\"dataframe\">\n",
              "  <thead>\n",
              "    <tr style=\"text-align: right;\">\n",
              "      <th></th>\n",
              "      <th>count</th>\n",
              "    </tr>\n",
              "    <tr>\n",
              "      <th>reviews.username</th>\n",
              "      <th></th>\n",
              "    </tr>\n",
              "  </thead>\n",
              "  <tbody>\n",
              "    <tr>\n",
              "      <th>Anonymous</th>\n",
              "      <td>60</td>\n",
              "    </tr>\n",
              "    <tr>\n",
              "      <th>An anonymous customer</th>\n",
              "      <td>48</td>\n",
              "    </tr>\n",
              "    <tr>\n",
              "      <th>Chris</th>\n",
              "      <td>14</td>\n",
              "    </tr>\n",
              "    <tr>\n",
              "      <th>Mike</th>\n",
              "      <td>9</td>\n",
              "    </tr>\n",
              "    <tr>\n",
              "      <th>John</th>\n",
              "      <td>7</td>\n",
              "    </tr>\n",
              "    <tr>\n",
              "      <th>Cindy</th>\n",
              "      <td>6</td>\n",
              "    </tr>\n",
              "    <tr>\n",
              "      <th>Missy</th>\n",
              "      <td>6</td>\n",
              "    </tr>\n",
              "    <tr>\n",
              "      <th>Angel</th>\n",
              "      <td>5</td>\n",
              "    </tr>\n",
              "    <tr>\n",
              "      <th>Alex</th>\n",
              "      <td>5</td>\n",
              "    </tr>\n",
              "    <tr>\n",
              "      <th>Sandy</th>\n",
              "      <td>5</td>\n",
              "    </tr>\n",
              "  </tbody>\n",
              "</table>\n",
              "</div><br><label><b>dtype:</b> int64</label>"
            ]
          },
          "metadata": {}
        }
      ]
    },
    {
      "cell_type": "code",
      "source": [
        "df['username_dup_flag'] = df['reviews.username'].isin(duplicate_usernames.index).astype(int)"
      ],
      "metadata": {
        "id": "j0M15nmYLouS"
      },
      "execution_count": 9,
      "outputs": []
    },
    {
      "cell_type": "code",
      "source": [
        "# Flag: Same user, same date, same title\n",
        "df['multi_review_same_day_flag'] = df.duplicated(subset=['reviews.username', 'reviews.date', 'reviews.title'], keep=False).astype(int)\n",
        "\n",
        "# Flag: Same user reviewing same product multiple times\n",
        "df['multi_review_same_product_flag'] = df.duplicated(subset=['upc', 'reviews.username'], keep=False).astype(int)"
      ],
      "metadata": {
        "id": "Ppv19hbU-8G1"
      },
      "execution_count": 10,
      "outputs": []
    },
    {
      "cell_type": "markdown",
      "source": [
        "## Encode Categorical Features"
      ],
      "metadata": {
        "id": "Fcb3xZbeP9rH"
      }
    },
    {
      "cell_type": "code",
      "source": [
        "le_brand = LabelEncoder()\n",
        "df['brand_encoded'] = le_brand.fit_transform(df['brand'])"
      ],
      "metadata": {
        "id": "ctGA7evhLtO_"
      },
      "execution_count": 11,
      "outputs": []
    },
    {
      "cell_type": "code",
      "source": [
        "le_category_group = LabelEncoder()\n",
        "df['category_group_encoded'] = le_category_group.fit_transform(df['category_group'])"
      ],
      "metadata": {
        "id": "-p40u0v4OVg1"
      },
      "execution_count": 12,
      "outputs": []
    },
    {
      "cell_type": "markdown",
      "source": [
        "## check if the review text matches the product name"
      ],
      "metadata": {
        "id": "YoD_Yblgf5yk"
      }
    },
    {
      "cell_type": "code",
      "source": [
        "import re\n",
        "\n",
        "# Improved product name match: token overlap\n",
        "def product_name_in_text(row):\n",
        "    if pd.isna(row['clean_text']) or pd.isna(row['name']):\n",
        "        return 0\n",
        "    name_tokens = set(re.findall(r'\\w+', row['name'].lower()))\n",
        "    text_tokens = set(re.findall(r'\\w+', row['clean_text'].lower()))\n",
        "    return int(len(name_tokens.intersection(text_tokens)) > 0)\n",
        "\n",
        "df['product_name_match_flag'] = df.apply(product_name_in_text, axis=1)"
      ],
      "metadata": {
        "id": "5BVxZucuz8W7"
      },
      "execution_count": 13,
      "outputs": []
    },
    {
      "cell_type": "code",
      "source": [
        "# Expanded keyword map for unrelated product detection\n",
        "category_keywords = {\n",
        "    'skincare': ['cream', 'moisturizer', 'moisturizers', 'soap', 'lotion', 'cleanser', 'cleansers'],\n",
        "    'haircare': ['shampoo', 'conditioner', 'conditioners', 'hair'],\n",
        "    'makeup': ['lipstick', 'foundation', 'concealer', 'bronzer', 'makeup'],\n",
        "    'fragrance': ['perfume', 'scent', 'aroma', 'fragrance'],\n",
        "    'bodycare': ['body wash', 'gel', 'lubricant', 'lotions'],\n",
        "    'food': ['taste', 'sauce', 'cake', 'pizza', 'ketchup', 'flavor'],\n",
        "    'household': ['detergent', 'cleaner', 'glass', 'soap', 'spray'],\n",
        "    'home': ['lamp', 'bed', 'furniture', 'shelf', 'blanket'],\n",
        "    'entertainment': ['movie', 'dvd', 'blu-ray', 'series', 'album'],\n",
        "    'other': []\n",
        "}"
      ],
      "metadata": {
        "id": "xdfg0cVgf5el"
      },
      "execution_count": 14,
      "outputs": []
    },
    {
      "cell_type": "code",
      "source": [
        "# Flag if unrelated keywords appear in the review\n",
        "def unrelated_product_flag(row):\n",
        "    text = row['clean_text'].lower() if pd.notna(row['clean_text']) else ''\n",
        "    category = row['category_group']\n",
        "    expected_keywords = category_keywords.get(category, [])\n",
        "\n",
        "    for other_cat, keywords in category_keywords.items():\n",
        "        if other_cat != category:\n",
        "            for word in keywords:\n",
        "                if word in text:\n",
        "                    return 1\n",
        "    return 0\n",
        "\n",
        "df['unrelated_product_flag'] = df.apply(unrelated_product_flag, axis=1)"
      ],
      "metadata": {
        "id": "jSjlX3NXf5K6"
      },
      "execution_count": 15,
      "outputs": []
    },
    {
      "cell_type": "code",
      "source": [
        "# semantic mismatch score\n",
        "df['semantic_mismatch_score'] = (\n",
        "    (df['product_name_match_flag'] == 0).astype(int) +\n",
        "    df['unrelated_product_flag']\n",
        ")"
      ],
      "metadata": {
        "id": "Z4ZKkESoxByh"
      },
      "execution_count": 16,
      "outputs": []
    },
    {
      "cell_type": "code",
      "source": [
        "def repetition_score(text):\n",
        "    tokens = text.lower().split()\n",
        "    return max(pd.Series(tokens).value_counts(normalize=True).values) if tokens else 0\n",
        "\n",
        "df['repetition_score'] = df['clean_text'].apply(repetition_score)"
      ],
      "metadata": {
        "id": "YDtKn-14EjQl"
      },
      "execution_count": 17,
      "outputs": []
    },
    {
      "cell_type": "markdown",
      "source": [
        "## Create Target: Fake Review Label"
      ],
      "metadata": {
        "id": "RaRf-m5HQG66"
      }
    },
    {
      "cell_type": "code",
      "source": [
        "def generate_fake_review_label(row):\n",
        "    short_extreme = (row['review_length'] < 5) and (abs(row['sentiment_polarity']) > 0.9)\n",
        "    mismatch = row['semantic_mismatch_score'] > 0 and row['username_dup_flag'] == 1\n",
        "    repetitive = row['repetition_score'] > 0.5\n",
        "    return int(short_extreme or mismatch or repetitive)\n",
        "\n",
        "df['fake_review_label'] = df.apply(generate_fake_review_label, axis=1)"
      ],
      "metadata": {
        "id": "PXrQOEeOEsyq"
      },
      "execution_count": 18,
      "outputs": []
    },
    {
      "cell_type": "markdown",
      "source": [
        "## Select Structured Features"
      ],
      "metadata": {
        "id": "MJ7w3gOWQqfb"
      }
    },
    {
      "cell_type": "code",
      "source": [
        "structured_features = [\n",
        "    # Textual and behavioral\n",
        "    'review_length', 'sentiment_polarity', 'repetition_score',\n",
        "\n",
        "    # Engagement and helpfulness\n",
        "    'log_helpful', 'no_helpful_votes_flag', 'helpful_missing_flag',\n",
        "\n",
        "    # Purchase and recommendation signals\n",
        "    'purchase_encoded', 'recommend_encoded',\n",
        "    'purchase_missing_flag', 'recommend_missing_flag',\n",
        "\n",
        "    # Metadata and semantic alignment\n",
        "    'username_dup_flag', 'multi_review_same_day_flag', 'multi_review_same_product_flag',\n",
        "    'product_name_match_flag',\n",
        "    'unrelated_product_flag', 'semantic_mismatch_score',\n",
        "\n",
        "    # Categorical encodings\n",
        "    'brand_encoded', 'category_group_encoded'\n",
        "]\n",
        "\n",
        "X_structured = df[structured_features].values\n",
        "y = df['fake_review_label'].values"
      ],
      "metadata": {
        "id": "1kF5pQFRL1bw"
      },
      "execution_count": 19,
      "outputs": []
    },
    {
      "cell_type": "code",
      "source": [
        "print(\"\\nFake review label distribution:\")\n",
        "print(df['fake_review_label'].value_counts())"
      ],
      "metadata": {
        "id": "ZlmM-QpQubOX",
        "colab": {
          "base_uri": "https://localhost:8080/"
        },
        "outputId": "3d28ed01-4ab7-4a55-9d9b-61fc94e2cf20"
      },
      "execution_count": 20,
      "outputs": [
        {
          "output_type": "stream",
          "name": "stdout",
          "text": [
            "\n",
            "Fake review label distribution:\n",
            "fake_review_label\n",
            "0    8800\n",
            "1     680\n",
            "Name: count, dtype: int64\n"
          ]
        }
      ]
    },
    {
      "cell_type": "code",
      "source": [
        "import seaborn as sns\n",
        "import matplotlib.pyplot as plt\n",
        "\n",
        "#\n",
        "label_map = {0: 'Genuine Review', 1: 'Fake Review'}\n",
        "df['label_text'] = df['fake_review_label'].map(label_map)\n",
        "\n",
        "plt.figure(figsize=(8, 5))\n",
        "ax = sns.countplot(x='label_text', data=df, hue='label_text', palette='Set2', legend=False)\n",
        "plt.title(\"Fake vs Genuine Review Distribution\", fontsize=14)\n",
        "plt.xlabel(\"Review Type\")\n",
        "plt.ylabel(\"Number of Reviews\")\n",
        "\n",
        "#\n",
        "for p in ax.patches:\n",
        "    count = int(p.get_height())\n",
        "    ax.annotate(f'{count}',\n",
        "                (p.get_x() + p.get_width() / 2., count),\n",
        "                ha='center', va='bottom', fontsize=12)\n",
        "\n",
        "plt.tight_layout()\n",
        "plt.show()"
      ],
      "metadata": {
        "id": "EcqL3KucvXcS",
        "colab": {
          "base_uri": "https://localhost:8080/",
          "height": 507
        },
        "outputId": "f78ad17d-e32f-4d75-b763-5dfdf88d3a30"
      },
      "execution_count": 21,
      "outputs": [
        {
          "output_type": "display_data",
          "data": {
            "text/plain": [
              "<Figure size 800x500 with 1 Axes>"
            ],
            "image/png": "[encoded data removed]"
          },
          "metadata": {}
        }
      ]
    },
    {
      "cell_type": "markdown",
      "source": [
        "## Save Outputs"
      ],
      "metadata": {
        "id": "1KlfwkqKQuzV"
      }
    },
    {
      "cell_type": "code",
      "source": [
        "np.save(\"/content/X_structured.npy\", X_structured)\n",
        "np.save(\"/content/y_fake_review.npy\", y)\n",
        "joblib.dump(structured_features, \"/content/feature_names.json\")\n",
        "\n",
        "df.to_parquet(\"/content/engineered_features.parquet\", index=False)\n",
        "print(\"Saved all engineered features.\")"
      ],
      "metadata": {
        "id": "U5QDqQzoL3AX",
        "colab": {
          "base_uri": "https://localhost:8080/"
        },
        "outputId": "796cac82-de9b-4f2b-c6c4-576c91be55bc"
      },
      "execution_count": 22,
      "outputs": [
        {
          "output_type": "stream",
          "name": "stdout",
          "text": [
            "Saved all engineered features.\n"
          ]
        }
      ]
    },
    {
      "cell_type": "code",
      "source": [
        "joblib.dump(le_brand, \"/content/label_encoder_brand.pkl\")\n",
        "joblib.dump(le_category_group, \"/content/label_encoder_category_group.pkl\")"
      ],
      "metadata": {
        "id": "6xNotlYxuZic",
        "colab": {
          "base_uri": "https://localhost:8080/"
        },
        "outputId": "0ad18ee7-4571-4151-a45d-33c6870136eb"
      },
      "execution_count": 23,
      "outputs": [
        {
          "output_type": "execute_result",
          "data": {
            "text/plain": [
              "['/content/label_encoder_category_group.pkl']"
            ]
          },
          "metadata": {},
          "execution_count": 23
        }
      ]
    },
    {
      "cell_type": "code",
      "source": [
        "df[['fake_review_label']].to_parquet(\"/content/fake_review_labels.parquet\", index=True)"
      ],
      "metadata": {
        "id": "ZPssIvDGugEE"
      },
      "execution_count": 24,
      "outputs": []
    },
    {
      "cell_type": "markdown",
      "source": [
        "## head(5) or unique()"
      ],
      "metadata": {
        "id": "HvLTxpNcPItR"
      }
    },
    {
      "cell_type": "code",
      "source": [
        "df[['sentiment_polarity', 'review_length', 'username_dup_flag', 'brand_encoded', 'fake_review_label']].head()"
      ],
      "metadata": {
        "id": "OpEMgekCE6Mt",
        "colab": {
          "base_uri": "https://localhost:8080/",
          "height": 206
        },
        "outputId": "7087a29a-0359-4f26-d887-1ea4bcdac5c5"
      },
      "execution_count": 25,
      "outputs": [
        {
          "output_type": "execute_result",
          "data": {
            "text/plain": [
              "   sentiment_polarity  review_length  username_dup_flag  brand_encoded  \\\n",
              "0            0.133333             19                  1             65   \n",
              "1            0.700000              6                  1             33   \n",
              "2            0.700000              2                  1             33   \n",
              "3           -0.007175             55                  1             30   \n",
              "4            0.000000             14                  0             30   \n",
              "\n",
              "   fake_review_label  \n",
              "0                  1  \n",
              "1                  1  \n",
              "2                  1  \n",
              "3                  1  \n",
              "4                  0  "
            ],
            "text/html": [
              "\n",
              "  <div id=\"df-82240ab3-ee9d-48ec-9794-cda34e959f47\" class=\"colab-df-container\">\n",
              "    <div>\n",
              "<style scoped>\n",
              "    .dataframe tbody tr th:only-of-type {\n",
              "        vertical-align: middle;\n",
              "    }\n",
              "\n",
              "    .dataframe tbody tr th {\n",
              "        vertical-align: top;\n",
              "    }\n",
              "\n",
              "    .dataframe thead th {\n",
              "        text-align: right;\n",
              "    }\n",
              "</style>\n",
              "<table border=\"1\" class=\"dataframe\">\n",
              "  <thead>\n",
              "    <tr style=\"text-align: right;\">\n",
              "      <th></th>\n",
              "      <th>sentiment_polarity</th>\n",
              "      <th>review_length</th>\n",
              "      <th>username_dup_flag</th>\n",
              "      <th>brand_encoded</th>\n",
              "      <th>fake_review_label</th>\n",
              "    </tr>\n",
              "  </thead>\n",
              "  <tbody>\n",
              "    <tr>\n",
              "      <th>0</th>\n",
              "      <td>0.133333</td>\n",
              "      <td>19</td>\n",
              "      <td>1</td>\n",
              "      <td>65</td>\n",
              "      <td>1</td>\n",
              "    </tr>\n",
              "    <tr>\n",
              "      <th>1</th>\n",
              "      <td>0.700000</td>\n",
              "      <td>6</td>\n",
              "      <td>1</td>\n",
              "      <td>33</td>\n",
              "      <td>1</td>\n",
              "    </tr>\n",
              "    <tr>\n",
              "      <th>2</th>\n",
              "      <td>0.700000</td>\n",
              "      <td>2</td>\n",
              "      <td>1</td>\n",
              "      <td>33</td>\n",
              "      <td>1</td>\n",
              "    </tr>\n",
              "    <tr>\n",
              "      <th>3</th>\n",
              "      <td>-0.007175</td>\n",
              "      <td>55</td>\n",
              "      <td>1</td>\n",
              "      <td>30</td>\n",
              "      <td>1</td>\n",
              "    </tr>\n",
              "    <tr>\n",
              "      <th>4</th>\n",
              "      <td>0.000000</td>\n",
              "      <td>14</td>\n",
              "      <td>0</td>\n",
              "      <td>30</td>\n",
              "      <td>0</td>\n",
              "    </tr>\n",
              "  </tbody>\n",
              "</table>\n",
              "</div>\n",
              "    <div class=\"colab-df-buttons\">\n",
              "\n",
              "  <div class=\"colab-df-container\">\n",
              "    <button class=\"colab-df-convert\" onclick=\"convertToInteractive('df-82240ab3-ee9d-48ec-9794-cda34e959f47')\"\n",
              "            title=\"Convert this dataframe to an interactive table.\"\n",
              "            style=\"display:none;\">\n",
              "\n",
              "  <svg xmlns=\"http://www.w3.org/2000/svg\" height=\"24px\" viewBox=\"0 -960 960 960\">\n",
              "    <path d=\"M120-120v-720h720v720H120Zm60-500h600v-160H180v160Zm220 220h160v-160H400v160Zm0 220h160v-160H400v160ZM180-400h160v-160H180v160Zm440 0h160v-160H620v160ZM180-180h160v-160H180v160Zm440 0h160v-160H620v160Z\"/>\n",
              "  </svg>\n",
              "    </button>\n",
              "\n",
              "  <style>\n",
              "    .colab-df-container {\n",
              "      display:flex;\n",
              "      gap: 12px;\n",
              "    }\n",
              "\n",
              "    .colab-df-convert {\n",
              "      background-color: #E8F0FE;\n",
              "      border: none;\n",
              "      border-radius: 50%;\n",
              "      cursor: pointer;\n",
              "      display: none;\n",
              "      fill: #1967D2;\n",
              "      height: 32px;\n",
              "      padding: 0 0 0 0;\n",
              "      width: 32px;\n",
              "    }\n",
              "\n",
              "    .colab-df-convert:hover {\n",
              "      background-color: #E2EBFA;\n",
              "      box-shadow: 0px 1px 2px rgba(60, 64, 67, 0.3), 0px 1px 3px 1px rgba(60, 64, 67, 0.15);\n",
              "      fill: #174EA6;\n",
              "    }\n",
              "\n",
              "    .colab-df-buttons div {\n",
              "      margin-bottom: 4px;\n",
              "    }\n",
              "\n",
              "    [theme=dark] .colab-df-convert {\n",
              "      background-color: #3B4455;\n",
              "      fill: #D2E3FC;\n",
              "    }\n",
              "\n",
              "    [theme=dark] .colab-df-convert:hover {\n",
              "      background-color: #434B5C;\n",
              "      box-shadow: 0px 1px 3px 1px rgba(0, 0, 0, 0.15);\n",
              "      filter: drop-shadow(0px 1px 2px rgba(0, 0, 0, 0.3));\n",
              "      fill: #FFFFFF;\n",
              "    }\n",
              "  </style>\n",
              "\n",
              "    <script>\n",
              "      const buttonEl =\n",
              "        document.querySelector('#df-82240ab3-ee9d-48ec-9794-cda34e959f47 button.colab-df-convert');\n",
              "      buttonEl.style.display =\n",
              "        google.colab.kernel.accessAllowed ? 'block' : 'none';\n",
              "\n",
              "      async function convertToInteractive(key) {\n",
              "        const element = document.querySelector('#df-82240ab3-ee9d-48ec-9794-cda34e959f47');\n",
              "        const dataTable =\n",
              "          await google.colab.kernel.invokeFunction('convertToInteractive',\n",
              "                                                    [key], {});\n",
              "        if (!dataTable) return;\n",
              "\n",
              "        const docLinkHtml = 'Like what you see? Visit the ' +\n",
              "          '<a target=\"_blank\" href=https://colab.research.google.com/notebooks/data_table.ipynb>data table notebook</a>'\n",
              "          + ' to learn more about interactive tables.';\n",
              "        element.innerHTML = '';\n",
              "        dataTable['output_type'] = 'display_data';\n",
              "        await google.colab.output.renderOutput(dataTable, element);\n",
              "        const docLink = document.createElement('div');\n",
              "        docLink.innerHTML = docLinkHtml;\n",
              "        element.appendChild(docLink);\n",
              "      }\n",
              "    </script>\n",
              "  </div>\n",
              "\n",
              "\n",
              "    <div id=\"df-4a65e939-9120-4c13-9d41-a3c978e35974\">\n",
              "      <button class=\"colab-df-quickchart\" onclick=\"quickchart('df-4a65e939-9120-4c13-9d41-a3c978e35974')\"\n",
              "                title=\"Suggest charts\"\n",
              "                style=\"display:none;\">\n",
              "\n",
              "<svg xmlns=\"http://www.w3.org/2000/svg\" height=\"24px\"viewBox=\"0 0 24 24\"\n",
              "     width=\"24px\">\n",
              "    <g>\n",
              "        <path d=\"M19 3H5c-1.1 0-2 .9-2 2v14c0 1.1.9 2 2 2h14c1.1 0 2-.9 2-2V5c0-1.1-.9-2-2-2zM9 17H7v-7h2v7zm4 0h-2V7h2v10zm4 0h-2v-4h2v4z\"/>\n",
              "    </g>\n",
              "</svg>\n",
              "      </button>\n",
              "\n",
              "<style>\n",
              "  .colab-df-quickchart {\n",
              "      --bg-color: #E8F0FE;\n",
              "      --fill-color: #1967D2;\n",
              "      --hover-bg-color: #E2EBFA;\n",
              "      --hover-fill-color: #174EA6;\n",
              "      --disabled-fill-color: #AAA;\n",
              "      --disabled-bg-color: #DDD;\n",
              "  }\n",
              "\n",
              "  [theme=dark] .colab-df-quickchart {\n",
              "      --bg-color: #3B4455;\n",
              "      --fill-color: #D2E3FC;\n",
              "      --hover-bg-color: #434B5C;\n",
              "      --hover-fill-color: #FFFFFF;\n",
              "      --disabled-bg-color: #3B4455;\n",
              "      --disabled-fill-color: #666;\n",
              "  }\n",
              "\n",
              "  .colab-df-quickchart {\n",
              "    background-color: var(--bg-color);\n",
              "    border: none;\n",
              "    border-radius: 50%;\n",
              "    cursor: pointer;\n",
              "    display: none;\n",
              "    fill: var(--fill-color);\n",
              "    height: 32px;\n",
              "    padding: 0;\n",
              "    width: 32px;\n",
              "  }\n",
              "\n",
              "  .colab-df-quickchart:hover {\n",
              "    background-color: var(--hover-bg-color);\n",
              "    box-shadow: 0 1px 2px rgba(60, 64, 67, 0.3), 0 1px 3px 1px rgba(60, 64, 67, 0.15);\n",
              "    fill: var(--button-hover-fill-color);\n",
              "  }\n",
              "\n",
              "  .colab-df-quickchart-complete:disabled,\n",
              "  .colab-df-quickchart-complete:disabled:hover {\n",
              "    background-color: var(--disabled-bg-color);\n",
              "    fill: var(--disabled-fill-color);\n",
              "    box-shadow: none;\n",
              "  }\n",
              "\n",
              "  .colab-df-spinner {\n",
              "    border: 2px solid var(--fill-color);\n",
              "    border-color: transparent;\n",
              "    border-bottom-color: var(--fill-color);\n",
              "    animation:\n",
              "      spin 1s steps(1) infinite;\n",
              "  }\n",
              "\n",
              "  @keyframes spin {\n",
              "    0% {\n",
              "      border-color: transparent;\n",
              "      border-bottom-color: var(--fill-color);\n",
              "      border-left-color: var(--fill-color);\n",
              "    }\n",
              "    20% {\n",
              "      border-color: transparent;\n",
              "      border-left-color: var(--fill-color);\n",
              "      border-top-color: var(--fill-color);\n",
              "    }\n",
              "    30% {\n",
              "      border-color: transparent;\n",
              "      border-left-color: var(--fill-color);\n",
              "      border-top-color: var(--fill-color);\n",
              "      border-right-color: var(--fill-color);\n",
              "    }\n",
              "    40% {\n",
              "      border-color: transparent;\n",
              "      border-right-color: var(--fill-color);\n",
              "      border-top-color: var(--fill-color);\n",
              "    }\n",
              "    60% {\n",
              "      border-color: transparent;\n",
              "      border-right-color: var(--fill-color);\n",
              "    }\n",
              "    80% {\n",
              "      border-color: transparent;\n",
              "      border-right-color: var(--fill-color);\n",
              "      border-bottom-color: var(--fill-color);\n",
              "    }\n",
              "    90% {\n",
              "      border-color: transparent;\n",
              "      border-bottom-color: var(--fill-color);\n",
              "    }\n",
              "  }\n",
              "</style>\n",
              "\n",
              "      <script>\n",
              "        async function quickchart(key) {\n",
              "          const quickchartButtonEl =\n",
              "            document.querySelector('#' + key + ' button');\n",
              "          quickchartButtonEl.disabled = true;  // To prevent multiple clicks.\n",
              "          quickchartButtonEl.classList.add('colab-df-spinner');\n",
              "          try {\n",
              "            const charts = await google.colab.kernel.invokeFunction(\n",
              "                'suggestCharts', [key], {});\n",
              "          } catch (error) {\n",
              "            console.error('Error during call to suggestCharts:', error);\n",
              "          }\n",
              "          quickchartButtonEl.classList.remove('colab-df-spinner');\n",
              "          quickchartButtonEl.classList.add('colab-df-quickchart-complete');\n",
              "        }\n",
              "        (() => {\n",
              "          let quickchartButtonEl =\n",
              "            document.querySelector('#df-4a65e939-9120-4c13-9d41-a3c978e35974 button');\n",
              "          quickchartButtonEl.style.display =\n",
              "            google.colab.kernel.accessAllowed ? 'block' : 'none';\n",
              "        })();\n",
              "      </script>\n",
              "    </div>\n",
              "\n",
              "    </div>\n",
              "  </div>\n"
            ],
            "application/vnd.google.colaboratory.intrinsic+json": {
              "type": "dataframe",
              "summary": "{\n  \"name\": \"df[['sentiment_polarity', 'review_length', 'username_dup_flag', 'brand_encoded', 'fake_review_label']]\",\n  \"rows\": 5,\n  \"fields\": [\n    {\n      \"column\": \"sentiment_polarity\",\n      \"properties\": {\n        \"dtype\": \"number\",\n        \"std\": 0.3646906949101457,\n        \"min\": -0.007174688057040997,\n        \"max\": 0.7,\n        \"num_unique_values\": 4,\n        \"samples\": [\n          0.7,\n          0.0,\n          0.13333333333333336\n        ],\n        \"semantic_type\": \"\",\n        \"description\": \"\"\n      }\n    },\n    {\n      \"column\": \"review_length\",\n      \"properties\": {\n        \"dtype\": \"number\",\n        \"std\": 21,\n        \"min\": 2,\n        \"max\": 55,\n        \"num_unique_values\": 5,\n        \"samples\": [\n          6,\n          14,\n          2\n        ],\n        \"semantic_type\": \"\",\n        \"description\": \"\"\n      }\n    },\n    {\n      \"column\": \"username_dup_flag\",\n      \"properties\": {\n        \"dtype\": \"number\",\n        \"std\": 0,\n        \"min\": 0,\n        \"max\": 1,\n        \"num_unique_values\": 2,\n        \"samples\": [\n          0,\n          1\n        ],\n        \"semantic_type\": \"\",\n        \"description\": \"\"\n      }\n    },\n    {\n      \"column\": \"brand_encoded\",\n      \"properties\": {\n        \"dtype\": \"number\",\n        \"std\": 15,\n        \"min\": 30,\n        \"max\": 65,\n        \"num_unique_values\": 3,\n        \"samples\": [\n          65,\n          33\n        ],\n        \"semantic_type\": \"\",\n        \"description\": \"\"\n      }\n    },\n    {\n      \"column\": \"fake_review_label\",\n      \"properties\": {\n        \"dtype\": \"number\",\n        \"std\": 0,\n        \"min\": 0,\n        \"max\": 1,\n        \"num_unique_values\": 2,\n        \"samples\": [\n          0,\n          1\n        ],\n        \"semantic_type\": \"\",\n        \"description\": \"\"\n      }\n    }\n  ]\n}"
            }
          },
          "metadata": {},
          "execution_count": 25
        }
      ]
    },
    {
      "cell_type": "code",
      "source": [
        "df['sentiment_polarity'].head(5)"
      ],
      "metadata": {
        "id": "KJiDhDsSPM79",
        "colab": {
          "base_uri": "https://localhost:8080/",
          "height": 241
        },
        "outputId": "785ab6cf-7740-4953-a464-f2fa3599d5a6"
      },
      "execution_count": 26,
      "outputs": [
        {
          "output_type": "execute_result",
          "data": {
            "text/plain": [
              "0    0.133333\n",
              "1    0.700000\n",
              "2    0.700000\n",
              "3   -0.007175\n",
              "4    0.000000\n",
              "Name: sentiment_polarity, dtype: float64"
            ],
            "text/html": [
              "<div>\n",
              "<style scoped>\n",
              "    .dataframe tbody tr th:only-of-type {\n",
              "        vertical-align: middle;\n",
              "    }\n",
              "\n",
              "    .dataframe tbody tr th {\n",
              "        vertical-align: top;\n",
              "    }\n",
              "\n",
              "    .dataframe thead th {\n",
              "        text-align: right;\n",
              "    }\n",
              "</style>\n",
              "<table border=\"1\" class=\"dataframe\">\n",
              "  <thead>\n",
              "    <tr style=\"text-align: right;\">\n",
              "      <th></th>\n",
              "      <th>sentiment_polarity</th>\n",
              "    </tr>\n",
              "  </thead>\n",
              "  <tbody>\n",
              "    <tr>\n",
              "      <th>0</th>\n",
              "      <td>0.133333</td>\n",
              "    </tr>\n",
              "    <tr>\n",
              "      <th>1</th>\n",
              "      <td>0.700000</td>\n",
              "    </tr>\n",
              "    <tr>\n",
              "      <th>2</th>\n",
              "      <td>0.700000</td>\n",
              "    </tr>\n",
              "    <tr>\n",
              "      <th>3</th>\n",
              "      <td>-0.007175</td>\n",
              "    </tr>\n",
              "    <tr>\n",
              "      <th>4</th>\n",
              "      <td>0.000000</td>\n",
              "    </tr>\n",
              "  </tbody>\n",
              "</table>\n",
              "</div><br><label><b>dtype:</b> float64</label>"
            ]
          },
          "metadata": {},
          "execution_count": 26
        }
      ]
    },
    {
      "cell_type": "code",
      "source": [
        "df['review_length'].head(5)"
      ],
      "metadata": {
        "id": "qam4m3AyPQE8",
        "colab": {
          "base_uri": "https://localhost:8080/",
          "height": 241
        },
        "outputId": "6e07cd96-94d9-4af0-ce26-9c062277914d"
      },
      "execution_count": 27,
      "outputs": [
        {
          "output_type": "execute_result",
          "data": {
            "text/plain": [
              "0    19\n",
              "1     6\n",
              "2     2\n",
              "3    55\n",
              "4    14\n",
              "Name: review_length, dtype: int64"
            ],
            "text/html": [
              "<div>\n",
              "<style scoped>\n",
              "    .dataframe tbody tr th:only-of-type {\n",
              "        vertical-align: middle;\n",
              "    }\n",
              "\n",
              "    .dataframe tbody tr th {\n",
              "        vertical-align: top;\n",
              "    }\n",
              "\n",
              "    .dataframe thead th {\n",
              "        text-align: right;\n",
              "    }\n",
              "</style>\n",
              "<table border=\"1\" class=\"dataframe\">\n",
              "  <thead>\n",
              "    <tr style=\"text-align: right;\">\n",
              "      <th></th>\n",
              "      <th>review_length</th>\n",
              "    </tr>\n",
              "  </thead>\n",
              "  <tbody>\n",
              "    <tr>\n",
              "      <th>0</th>\n",
              "      <td>19</td>\n",
              "    </tr>\n",
              "    <tr>\n",
              "      <th>1</th>\n",
              "      <td>6</td>\n",
              "    </tr>\n",
              "    <tr>\n",
              "      <th>2</th>\n",
              "      <td>2</td>\n",
              "    </tr>\n",
              "    <tr>\n",
              "      <th>3</th>\n",
              "      <td>55</td>\n",
              "    </tr>\n",
              "    <tr>\n",
              "      <th>4</th>\n",
              "      <td>14</td>\n",
              "    </tr>\n",
              "  </tbody>\n",
              "</table>\n",
              "</div><br><label><b>dtype:</b> int64</label>"
            ]
          },
          "metadata": {},
          "execution_count": 27
        }
      ]
    },
    {
      "cell_type": "code",
      "source": [
        "df['username_dup_flag'].head(5)"
      ],
      "metadata": {
        "id": "Ym4b_iEmPVrA",
        "colab": {
          "base_uri": "https://localhost:8080/",
          "height": 241
        },
        "outputId": "0436fe18-2f83-4bba-ea92-2151e1f2050c"
      },
      "execution_count": 28,
      "outputs": [
        {
          "output_type": "execute_result",
          "data": {
            "text/plain": [
              "0    1\n",
              "1    1\n",
              "2    1\n",
              "3    1\n",
              "4    0\n",
              "Name: username_dup_flag, dtype: int64"
            ],
            "text/html": [
              "<div>\n",
              "<style scoped>\n",
              "    .dataframe tbody tr th:only-of-type {\n",
              "        vertical-align: middle;\n",
              "    }\n",
              "\n",
              "    .dataframe tbody tr th {\n",
              "        vertical-align: top;\n",
              "    }\n",
              "\n",
              "    .dataframe thead th {\n",
              "        text-align: right;\n",
              "    }\n",
              "</style>\n",
              "<table border=\"1\" class=\"dataframe\">\n",
              "  <thead>\n",
              "    <tr style=\"text-align: right;\">\n",
              "      <th></th>\n",
              "      <th>username_dup_flag</th>\n",
              "    </tr>\n",
              "  </thead>\n",
              "  <tbody>\n",
              "    <tr>\n",
              "      <th>0</th>\n",
              "      <td>1</td>\n",
              "    </tr>\n",
              "    <tr>\n",
              "      <th>1</th>\n",
              "      <td>1</td>\n",
              "    </tr>\n",
              "    <tr>\n",
              "      <th>2</th>\n",
              "      <td>1</td>\n",
              "    </tr>\n",
              "    <tr>\n",
              "      <th>3</th>\n",
              "      <td>1</td>\n",
              "    </tr>\n",
              "    <tr>\n",
              "      <th>4</th>\n",
              "      <td>0</td>\n",
              "    </tr>\n",
              "  </tbody>\n",
              "</table>\n",
              "</div><br><label><b>dtype:</b> int64</label>"
            ]
          },
          "metadata": {},
          "execution_count": 28
        }
      ]
    },
    {
      "cell_type": "code",
      "source": [
        "df['brand_encoded'].head(5)"
      ],
      "metadata": {
        "id": "_1s6rNPuPoBe",
        "colab": {
          "base_uri": "https://localhost:8080/",
          "height": 241
        },
        "outputId": "468510bb-f28e-41ab-adbc-5cb73e960b08"
      },
      "execution_count": 29,
      "outputs": [
        {
          "output_type": "execute_result",
          "data": {
            "text/plain": [
              "0    65\n",
              "1    33\n",
              "2    33\n",
              "3    30\n",
              "4    30\n",
              "Name: brand_encoded, dtype: int64"
            ],
            "text/html": [
              "<div>\n",
              "<style scoped>\n",
              "    .dataframe tbody tr th:only-of-type {\n",
              "        vertical-align: middle;\n",
              "    }\n",
              "\n",
              "    .dataframe tbody tr th {\n",
              "        vertical-align: top;\n",
              "    }\n",
              "\n",
              "    .dataframe thead th {\n",
              "        text-align: right;\n",
              "    }\n",
              "</style>\n",
              "<table border=\"1\" class=\"dataframe\">\n",
              "  <thead>\n",
              "    <tr style=\"text-align: right;\">\n",
              "      <th></th>\n",
              "      <th>brand_encoded</th>\n",
              "    </tr>\n",
              "  </thead>\n",
              "  <tbody>\n",
              "    <tr>\n",
              "      <th>0</th>\n",
              "      <td>65</td>\n",
              "    </tr>\n",
              "    <tr>\n",
              "      <th>1</th>\n",
              "      <td>33</td>\n",
              "    </tr>\n",
              "    <tr>\n",
              "      <th>2</th>\n",
              "      <td>33</td>\n",
              "    </tr>\n",
              "    <tr>\n",
              "      <th>3</th>\n",
              "      <td>30</td>\n",
              "    </tr>\n",
              "    <tr>\n",
              "      <th>4</th>\n",
              "      <td>30</td>\n",
              "    </tr>\n",
              "  </tbody>\n",
              "</table>\n",
              "</div><br><label><b>dtype:</b> int64</label>"
            ]
          },
          "metadata": {},
          "execution_count": 29
        }
      ]
    },
    {
      "cell_type": "code",
      "source": [
        "df['fake_review_label'].head(5)"
      ],
      "metadata": {
        "id": "pMR1twV0PxMF",
        "colab": {
          "base_uri": "https://localhost:8080/",
          "height": 241
        },
        "outputId": "795f31df-8e79-4696-9e62-3a507112d40e"
      },
      "execution_count": 30,
      "outputs": [
        {
          "output_type": "execute_result",
          "data": {
            "text/plain": [
              "0    1\n",
              "1    1\n",
              "2    1\n",
              "3    1\n",
              "4    0\n",
              "Name: fake_review_label, dtype: int64"
            ],
            "text/html": [
              "<div>\n",
              "<style scoped>\n",
              "    .dataframe tbody tr th:only-of-type {\n",
              "        vertical-align: middle;\n",
              "    }\n",
              "\n",
              "    .dataframe tbody tr th {\n",
              "        vertical-align: top;\n",
              "    }\n",
              "\n",
              "    .dataframe thead th {\n",
              "        text-align: right;\n",
              "    }\n",
              "</style>\n",
              "<table border=\"1\" class=\"dataframe\">\n",
              "  <thead>\n",
              "    <tr style=\"text-align: right;\">\n",
              "      <th></th>\n",
              "      <th>fake_review_label</th>\n",
              "    </tr>\n",
              "  </thead>\n",
              "  <tbody>\n",
              "    <tr>\n",
              "      <th>0</th>\n",
              "      <td>1</td>\n",
              "    </tr>\n",
              "    <tr>\n",
              "      <th>1</th>\n",
              "      <td>1</td>\n",
              "    </tr>\n",
              "    <tr>\n",
              "      <th>2</th>\n",
              "      <td>1</td>\n",
              "    </tr>\n",
              "    <tr>\n",
              "      <th>3</th>\n",
              "      <td>1</td>\n",
              "    </tr>\n",
              "    <tr>\n",
              "      <th>4</th>\n",
              "      <td>0</td>\n",
              "    </tr>\n",
              "  </tbody>\n",
              "</table>\n",
              "</div><br><label><b>dtype:</b> int64</label>"
            ]
          },
          "metadata": {},
          "execution_count": 30
        }
      ]
    },
    {
      "cell_type": "markdown",
      "source": [
        "## Features"
      ],
      "metadata": {
        "id": "6kwRHT7rAcTp"
      }
    },
    {
      "cell_type": "code",
      "source": [
        "feature_descriptions = {\n",
        "    'review_length': 'Number of tokens in the cleaned review text',\n",
        "    'sentiment_polarity': 'Polarity score from TextBlob (-1 to +1)',\n",
        "    'repetition_score': 'Max normalized frequency of repeated tokens',\n",
        "    'log_helpful': 'Log-transformed helpful vote count',\n",
        "    'no_helpful_votes_flag': 'Binary flag for zero helpful votes',\n",
        "    'helpful_missing_flag': 'Binary flag for missing helpful vote field',\n",
        "    'purchase_encoded': 'Ordinal encoding of purchase status',\n",
        "    'recommend_encoded': 'Ordinal encoding of recommendation status',\n",
        "    'purchase_missing_flag': 'Binary flag for missing purchase info',\n",
        "    'recommend_missing_flag': 'Binary flag for missing recommendation info',\n",
        "    'username_dup_flag': 'User appears more than once in dataset',\n",
        "    'multi_review_same_day_flag': 'Same user reviewed multiple items on same day with same title',\n",
        "    'multi_review_same_product_flag': 'Same user reviewed same product multiple times',\n",
        "    'product_name_match_flag': 'Review text overlaps with product name',\n",
        "    'unrelated_product_flag': 'Review contains keywords from unrelated categories',\n",
        "    'semantic_mismatch_score': 'Sum of product name mismatch and unrelated keyword flag',\n",
        "    'brand_encoded': 'Label-encoded brand name',\n",
        "    'category_group_encoded': 'Label-encoded product category group'\n",
        "}"
      ],
      "metadata": {
        "id": "6nrQhDeIAeJv"
      },
      "execution_count": 31,
      "outputs": []
    },
    {
      "cell_type": "code",
      "source": [
        "import seaborn as sns\n",
        "corr = df[structured_features].corr()\n",
        "plt.figure(figsize=(12, 10))\n",
        "sns.heatmap(corr, annot=False, cmap='coolwarm')\n",
        "plt.title(\"Feature Correlation Matrix\")\n",
        "plt.show()"
      ],
      "metadata": {
        "id": "hebZh2tTAfvC",
        "colab": {
          "base_uri": "https://localhost:8080/",
          "height": 1000
        },
        "outputId": "74510b55-6156-4751-9084-576f969aa4db"
      },
      "execution_count": 32,
      "outputs": [
        {
          "output_type": "display_data",
          "data": {
            "text/plain": [
              "<Figure size 1200x1000 with 2 Axes>"
            ],
            "image/png": "[encoded data removed]"
          },
          "metadata": {}
        }
      ]
    }
  ]
}